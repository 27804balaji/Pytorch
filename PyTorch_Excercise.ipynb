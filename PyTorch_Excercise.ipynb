{
  "nbformat": 4,
  "nbformat_minor": 0,
  "metadata": {
    "colab": {
      "provenance": [],
      "toc_visible": true,
      "authorship_tag": "ABX9TyNPr+1iHegevrRLlde9siWE",
      "include_colab_link": true
    },
    "kernelspec": {
      "name": "python3",
      "display_name": "Python 3"
    },
    "language_info": {
      "name": "python"
    }
  },
  "cells": [
    {
      "cell_type": "markdown",
      "metadata": {
        "id": "view-in-github",
        "colab_type": "text"
      },
      "source": [
        "<a href=\"https://colab.research.google.com/github/27804balaji/Pytorch/blob/main/PyTorch_Excercise.ipynb\" target=\"_parent\"><img src=\"https://colab.research.google.com/assets/colab-badge.svg\" alt=\"Open In Colab\"/></a>"
      ]
    },
    {
      "cell_type": "markdown",
      "source": [
        "# Exercises Fundamentals\n",
        "\n",
        "**Link :-** https://www.learnpytorch.io/00_pytorch_fundamentals/#exercises"
      ],
      "metadata": {
        "id": "q1JJOvjAQzO6"
      }
    },
    {
      "cell_type": "markdown",
      "source": [
        "## Exercise 1\n",
        "\n",
        "Create a random tensor with shape (7, 7)."
      ],
      "metadata": {
        "id": "njNr7OhKmKA-"
      }
    },
    {
      "cell_type": "code",
      "source": [
        "import torch\n",
        "\n",
        "tensor = torch.rand(49).reshape(7, 7)\n",
        "tensor.shape"
      ],
      "metadata": {
        "colab": {
          "base_uri": "https://localhost:8080/"
        },
        "id": "h6zIAz-VmQNm",
        "outputId": "0937d308-6544-4495-ce61-17c8cc5b32ee"
      },
      "execution_count": null,
      "outputs": [
        {
          "output_type": "execute_result",
          "data": {
            "text/plain": [
              "torch.Size([7, 7])"
            ]
          },
          "metadata": {},
          "execution_count": 1
        }
      ]
    },
    {
      "cell_type": "markdown",
      "source": [
        "## Excersie 2\n",
        "\n",
        "Perform a matrix multiplication on the tensor from exercise 1 with another random tensor with shape (1, 7) (hint: you may have to transpose the second tensor)."
      ],
      "metadata": {
        "id": "xWR1xS-NmdYP"
      }
    },
    {
      "cell_type": "code",
      "source": [
        "x_tensor = torch.rand(7).reshape(1, 7)\n",
        "x_tensor @ tensor"
      ],
      "metadata": {
        "colab": {
          "base_uri": "https://localhost:8080/"
        },
        "id": "TJv9xDHMnlWu",
        "outputId": "d8f1240f-c55b-4065-cd2b-7e0250067409"
      },
      "execution_count": null,
      "outputs": [
        {
          "output_type": "execute_result",
          "data": {
            "text/plain": [
              "tensor([[1.1213, 1.8074, 1.8502, 2.1456, 1.6175, 1.7232, 2.4479]])"
            ]
          },
          "metadata": {},
          "execution_count": 2
        }
      ]
    },
    {
      "cell_type": "markdown",
      "source": [
        "## Exercise 3\n",
        "\n",
        "Set the random seed to 0 and do exercises 2 & 3 over again."
      ],
      "metadata": {
        "id": "TQD7XIVjn53-"
      }
    },
    {
      "cell_type": "code",
      "source": [
        "import torch\n",
        "\n",
        "device = 'cuda' if torch.cuda.is_available() else 'cpu'\n",
        "device"
      ],
      "metadata": {
        "colab": {
          "base_uri": "https://localhost:8080/",
          "height": 35
        },
        "id": "x2auzmddosje",
        "outputId": "c73a8ccd-3a23-4813-f65b-e51d3980a78b"
      },
      "execution_count": null,
      "outputs": [
        {
          "output_type": "execute_result",
          "data": {
            "text/plain": [
              "'cpu'"
            ],
            "application/vnd.google.colaboratory.intrinsic+json": {
              "type": "string"
            }
          },
          "metadata": {},
          "execution_count": 3
        }
      ]
    },
    {
      "cell_type": "code",
      "source": [
        "if device == 'cuda':\n",
        "  torch.cuda.manual_seed(0)\n",
        "\n",
        "else:\n",
        "  torch.manual_seed(0)\n",
        "\n",
        "x_tensor = torch.rand(7).reshape(1, 7)\n",
        "y_tensor = torch.rand(49).reshape(7, 7)\n",
        "\n",
        "x_tensor @ y_tensor"
      ],
      "metadata": {
        "colab": {
          "base_uri": "https://localhost:8080/"
        },
        "id": "DeGAlioPojS-",
        "outputId": "c68273de-2912-4022-8565-580a42998f15"
      },
      "execution_count": null,
      "outputs": [
        {
          "output_type": "execute_result",
          "data": {
            "text/plain": [
              "tensor([[1.3927, 1.1957, 1.8298, 1.6661, 1.4186, 1.4219, 0.9826]])"
            ]
          },
          "metadata": {},
          "execution_count": 4
        }
      ]
    },
    {
      "cell_type": "markdown",
      "source": [
        "## Excercise 4\n",
        "\n",
        "Create two random tensors of shape (2, 3) and send them both to the GPU (you'll need access to a GPU for this). Set torch.manual_seed(1234) when creating the tensors (this doesn't have to be the GPU random seed)."
      ],
      "metadata": {
        "id": "Cw5atrT4o31-"
      }
    },
    {
      "cell_type": "code",
      "source": [
        "device = 'cuda' if torch.cuda.is_available() else 'cpu'\n",
        "device"
      ],
      "metadata": {
        "colab": {
          "base_uri": "https://localhost:8080/",
          "height": 35
        },
        "id": "H7ImHRSFrT0e",
        "outputId": "5d7c0c68-f458-47f2-c5f1-07a8b5cc76ca"
      },
      "execution_count": null,
      "outputs": [
        {
          "output_type": "execute_result",
          "data": {
            "text/plain": [
              "'cpu'"
            ],
            "application/vnd.google.colaboratory.intrinsic+json": {
              "type": "string"
            }
          },
          "metadata": {},
          "execution_count": 5
        }
      ]
    },
    {
      "cell_type": "code",
      "source": [
        "import torch\n",
        "\n",
        "if device == 'cuda':\n",
        "  torch.cuda.manual_seed(1234)\n",
        "\n",
        "else:\n",
        "  torch.manual_seed(0)\n",
        "\n",
        "x_tensor = torch.rand(6).reshape(2, 3)\n",
        "y_tensor = torch.rand(6).reshape(2, 3)\n",
        "\n",
        "x_tensor, y_tensor"
      ],
      "metadata": {
        "colab": {
          "base_uri": "https://localhost:8080/"
        },
        "id": "sGi8Kjbuq_Lu",
        "outputId": "4388866f-5bf6-46af-d600-a92d2f70c895"
      },
      "execution_count": null,
      "outputs": [
        {
          "output_type": "execute_result",
          "data": {
            "text/plain": [
              "(tensor([[0.4963, 0.7682, 0.0885],\n",
              "         [0.1320, 0.3074, 0.6341]]),\n",
              " tensor([[0.4901, 0.8964, 0.4556],\n",
              "         [0.6323, 0.3489, 0.4017]]))"
            ]
          },
          "metadata": {},
          "execution_count": 6
        }
      ]
    },
    {
      "cell_type": "markdown",
      "source": [
        "## Excercise 5\n",
        "\n",
        "Perform a matrix multiplication on the tensors you created in excercise 4 (again, you may have to adjust the shapes of one of the tensors)."
      ],
      "metadata": {
        "id": "GKYdCArIrbSu"
      }
    },
    {
      "cell_type": "code",
      "source": [
        "matmul = x_tensor @ x_tensor.reshape(3, 2)\n",
        "matmul"
      ],
      "metadata": {
        "colab": {
          "base_uri": "https://localhost:8080/"
        },
        "id": "Rknmfq2mr4MO",
        "outputId": "c9e8557a-346e-41f0-d74e-34eaaefd8585"
      },
      "execution_count": null,
      "outputs": [
        {
          "output_type": "execute_result",
          "data": {
            "text/plain": [
              "tensor([[0.3414, 0.5388],\n",
              "        [0.2877, 0.5441]])"
            ]
          },
          "metadata": {},
          "execution_count": 7
        }
      ]
    },
    {
      "cell_type": "markdown",
      "source": [
        "## Excercise 6\n",
        "\n",
        "Find the maximum and minimum values of the output of excercise 5."
      ],
      "metadata": {
        "id": "hv4BcGNgsB12"
      }
    },
    {
      "cell_type": "code",
      "source": [
        "torch.max(matmul)"
      ],
      "metadata": {
        "colab": {
          "base_uri": "https://localhost:8080/"
        },
        "id": "RJB2raXcsLLO",
        "outputId": "a738819a-03cd-441c-f6a1-87e561882ff9"
      },
      "execution_count": null,
      "outputs": [
        {
          "output_type": "execute_result",
          "data": {
            "text/plain": [
              "tensor(0.5441)"
            ]
          },
          "metadata": {},
          "execution_count": 8
        }
      ]
    },
    {
      "cell_type": "code",
      "source": [
        "torch.min(matmul)"
      ],
      "metadata": {
        "colab": {
          "base_uri": "https://localhost:8080/"
        },
        "id": "tRGf5QX3sVkm",
        "outputId": "d93d39e2-c0de-4526-f690-8ca0e1dcd5f4"
      },
      "execution_count": null,
      "outputs": [
        {
          "output_type": "execute_result",
          "data": {
            "text/plain": [
              "tensor(0.2877)"
            ]
          },
          "metadata": {},
          "execution_count": 9
        }
      ]
    },
    {
      "cell_type": "markdown",
      "source": [
        "## Excercise 7\n",
        "\n",
        "Find the maximum and minimum index values of the output of excercise 5"
      ],
      "metadata": {
        "id": "twaGo3oasY0u"
      }
    },
    {
      "cell_type": "code",
      "source": [
        "torch.argmax(matmul)"
      ],
      "metadata": {
        "colab": {
          "base_uri": "https://localhost:8080/"
        },
        "id": "Up9KGqtcslH2",
        "outputId": "e50c8ccb-54fe-4cde-f9d9-0d68fae3337d"
      },
      "execution_count": null,
      "outputs": [
        {
          "output_type": "execute_result",
          "data": {
            "text/plain": [
              "tensor(3)"
            ]
          },
          "metadata": {},
          "execution_count": 10
        }
      ]
    },
    {
      "cell_type": "code",
      "source": [
        "torch.argmin(matmul)"
      ],
      "metadata": {
        "colab": {
          "base_uri": "https://localhost:8080/"
        },
        "id": "GtndZvq7sofW",
        "outputId": "a720e219-2880-4e2e-e719-92caeadc29e7"
      },
      "execution_count": null,
      "outputs": [
        {
          "output_type": "execute_result",
          "data": {
            "text/plain": [
              "tensor(2)"
            ]
          },
          "metadata": {},
          "execution_count": 11
        }
      ]
    },
    {
      "cell_type": "markdown",
      "source": [
        "## Excercise 8\n",
        "\n",
        "Make a random tensor with shape (1, 1, 1, 10) and then create a new tensor with all the 1 dimensions removed to be left with a tensor of shape (10). Set the seed to 7 when you create it and print out the first tensor and it's shape as well as the second tensor and it's shape."
      ],
      "metadata": {
        "id": "hpHDV-AEsp2O"
      }
    },
    {
      "cell_type": "code",
      "source": [
        "import torch\n",
        "\n",
        "import torch\n",
        "\n",
        "if device == 'cuda':\n",
        "  torch.cuda.manual_seed(7)\n",
        "\n",
        "else:\n",
        "  torch.manual_seed(7)\n",
        "\n",
        "x_tensor = torch.rand(10).reshape(1, 1, 1, 10)\n",
        "y_tensor = x_tensor.squeeze()\n",
        "\n",
        "x_tensor == y_tensor, x_tensor.shape, y_tensor"
      ],
      "metadata": {
        "colab": {
          "base_uri": "https://localhost:8080/"
        },
        "id": "NBfJao4NsyLG",
        "outputId": "6733cfc5-26ff-44c4-ecb8-23b3a7c2f2bb"
      },
      "execution_count": null,
      "outputs": [
        {
          "output_type": "execute_result",
          "data": {
            "text/plain": [
              "(tensor([[[[True, True, True, True, True, True, True, True, True, True]]]]),\n",
              " torch.Size([1, 1, 1, 10]),\n",
              " tensor([0.5349, 0.1988, 0.6592, 0.6569, 0.2328, 0.4251, 0.2071, 0.6297, 0.3653,\n",
              "         0.8513]))"
            ]
          },
          "metadata": {},
          "execution_count": 12
        }
      ]
    },
    {
      "cell_type": "markdown",
      "source": [
        "# Excercise PyTorch Workflow"
      ],
      "metadata": {
        "id": "yV6JdOuktBU2"
      }
    },
    {
      "cell_type": "markdown",
      "source": [
        "## Excercise 1\n",
        "\n",
        "* Create a straight line dataset using the linear regression formula (weight * X + bias).\n",
        "* Set weight=0.3 and bias=0.9 there should be at least 100 datapoints total.\n",
        "* Split the data into 80% training, 20% testing.\n",
        "* Plot the training and testing data so it becomes visual."
      ],
      "metadata": {
        "id": "_oTQY3L0uh7W"
      }
    },
    {
      "cell_type": "code",
      "source": [
        "import torch\n",
        "\n",
        "start = 0\n",
        "end = 1\n",
        "step = 0.001\n",
        "\n",
        "x = torch.arange(start, end, step)\n",
        "x[:10], len(x)"
      ],
      "metadata": {
        "colab": {
          "base_uri": "https://localhost:8080/"
        },
        "id": "L_Mpbz8fumDt",
        "outputId": "91704b7b-da44-4004-85ad-39e67170b123"
      },
      "execution_count": null,
      "outputs": [
        {
          "output_type": "execute_result",
          "data": {
            "text/plain": [
              "(tensor([0.0000, 0.0010, 0.0020, 0.0030, 0.0040, 0.0050, 0.0060, 0.0070, 0.0080,\n",
              "         0.0090]),\n",
              " 1000)"
            ]
          },
          "metadata": {},
          "execution_count": 13
        }
      ]
    },
    {
      "cell_type": "code",
      "source": [
        "weight = 0.3\n",
        "bias = 0.9\n",
        "\n",
        "y = weight * x + bias\n",
        "y[:10], len(y)"
      ],
      "metadata": {
        "colab": {
          "base_uri": "https://localhost:8080/"
        },
        "id": "lrp-0YDCvFC2",
        "outputId": "60a73525-673f-434d-f154-4afcfe82e4f5"
      },
      "execution_count": null,
      "outputs": [
        {
          "output_type": "execute_result",
          "data": {
            "text/plain": [
              "(tensor([0.9000, 0.9003, 0.9006, 0.9009, 0.9012, 0.9015, 0.9018, 0.9021, 0.9024,\n",
              "         0.9027]),\n",
              " 1000)"
            ]
          },
          "metadata": {},
          "execution_count": 14
        }
      ]
    },
    {
      "cell_type": "code",
      "source": [
        "import pandas as pd\n",
        "\n",
        "data = pd.DataFrame({\n",
        "    'X' : x,\n",
        "    'Y' : y\n",
        "})\n",
        "\n",
        "data.head(10)"
      ],
      "metadata": {
        "colab": {
          "base_uri": "https://localhost:8080/",
          "height": 363
        },
        "id": "ZoF0eeTEvTJV",
        "outputId": "5fc552ff-a33d-45b7-8020-faf700309b00"
      },
      "execution_count": null,
      "outputs": [
        {
          "output_type": "execute_result",
          "data": {
            "text/plain": [
              "       X       Y\n",
              "0  0.000  0.9000\n",
              "1  0.001  0.9003\n",
              "2  0.002  0.9006\n",
              "3  0.003  0.9009\n",
              "4  0.004  0.9012\n",
              "5  0.005  0.9015\n",
              "6  0.006  0.9018\n",
              "7  0.007  0.9021\n",
              "8  0.008  0.9024\n",
              "9  0.009  0.9027"
            ],
            "text/html": [
              "\n",
              "  <div id=\"df-e256e894-4b94-4ae5-ac0f-5a8ee2bdaf34\" class=\"colab-df-container\">\n",
              "    <div>\n",
              "<style scoped>\n",
              "    .dataframe tbody tr th:only-of-type {\n",
              "        vertical-align: middle;\n",
              "    }\n",
              "\n",
              "    .dataframe tbody tr th {\n",
              "        vertical-align: top;\n",
              "    }\n",
              "\n",
              "    .dataframe thead th {\n",
              "        text-align: right;\n",
              "    }\n",
              "</style>\n",
              "<table border=\"1\" class=\"dataframe\">\n",
              "  <thead>\n",
              "    <tr style=\"text-align: right;\">\n",
              "      <th></th>\n",
              "      <th>X</th>\n",
              "      <th>Y</th>\n",
              "    </tr>\n",
              "  </thead>\n",
              "  <tbody>\n",
              "    <tr>\n",
              "      <th>0</th>\n",
              "      <td>0.000</td>\n",
              "      <td>0.9000</td>\n",
              "    </tr>\n",
              "    <tr>\n",
              "      <th>1</th>\n",
              "      <td>0.001</td>\n",
              "      <td>0.9003</td>\n",
              "    </tr>\n",
              "    <tr>\n",
              "      <th>2</th>\n",
              "      <td>0.002</td>\n",
              "      <td>0.9006</td>\n",
              "    </tr>\n",
              "    <tr>\n",
              "      <th>3</th>\n",
              "      <td>0.003</td>\n",
              "      <td>0.9009</td>\n",
              "    </tr>\n",
              "    <tr>\n",
              "      <th>4</th>\n",
              "      <td>0.004</td>\n",
              "      <td>0.9012</td>\n",
              "    </tr>\n",
              "    <tr>\n",
              "      <th>5</th>\n",
              "      <td>0.005</td>\n",
              "      <td>0.9015</td>\n",
              "    </tr>\n",
              "    <tr>\n",
              "      <th>6</th>\n",
              "      <td>0.006</td>\n",
              "      <td>0.9018</td>\n",
              "    </tr>\n",
              "    <tr>\n",
              "      <th>7</th>\n",
              "      <td>0.007</td>\n",
              "      <td>0.9021</td>\n",
              "    </tr>\n",
              "    <tr>\n",
              "      <th>8</th>\n",
              "      <td>0.008</td>\n",
              "      <td>0.9024</td>\n",
              "    </tr>\n",
              "    <tr>\n",
              "      <th>9</th>\n",
              "      <td>0.009</td>\n",
              "      <td>0.9027</td>\n",
              "    </tr>\n",
              "  </tbody>\n",
              "</table>\n",
              "</div>\n",
              "    <div class=\"colab-df-buttons\">\n",
              "\n",
              "  <div class=\"colab-df-container\">\n",
              "    <button class=\"colab-df-convert\" onclick=\"convertToInteractive('df-e256e894-4b94-4ae5-ac0f-5a8ee2bdaf34')\"\n",
              "            title=\"Convert this dataframe to an interactive table.\"\n",
              "            style=\"display:none;\">\n",
              "\n",
              "  <svg xmlns=\"http://www.w3.org/2000/svg\" height=\"24px\" viewBox=\"0 -960 960 960\">\n",
              "    <path d=\"M120-120v-720h720v720H120Zm60-500h600v-160H180v160Zm220 220h160v-160H400v160Zm0 220h160v-160H400v160ZM180-400h160v-160H180v160Zm440 0h160v-160H620v160ZM180-180h160v-160H180v160Zm440 0h160v-160H620v160Z\"/>\n",
              "  </svg>\n",
              "    </button>\n",
              "\n",
              "  <style>\n",
              "    .colab-df-container {\n",
              "      display:flex;\n",
              "      gap: 12px;\n",
              "    }\n",
              "\n",
              "    .colab-df-convert {\n",
              "      background-color: #E8F0FE;\n",
              "      border: none;\n",
              "      border-radius: 50%;\n",
              "      cursor: pointer;\n",
              "      display: none;\n",
              "      fill: #1967D2;\n",
              "      height: 32px;\n",
              "      padding: 0 0 0 0;\n",
              "      width: 32px;\n",
              "    }\n",
              "\n",
              "    .colab-df-convert:hover {\n",
              "      background-color: #E2EBFA;\n",
              "      box-shadow: 0px 1px 2px rgba(60, 64, 67, 0.3), 0px 1px 3px 1px rgba(60, 64, 67, 0.15);\n",
              "      fill: #174EA6;\n",
              "    }\n",
              "\n",
              "    .colab-df-buttons div {\n",
              "      margin-bottom: 4px;\n",
              "    }\n",
              "\n",
              "    [theme=dark] .colab-df-convert {\n",
              "      background-color: #3B4455;\n",
              "      fill: #D2E3FC;\n",
              "    }\n",
              "\n",
              "    [theme=dark] .colab-df-convert:hover {\n",
              "      background-color: #434B5C;\n",
              "      box-shadow: 0px 1px 3px 1px rgba(0, 0, 0, 0.15);\n",
              "      filter: drop-shadow(0px 1px 2px rgba(0, 0, 0, 0.3));\n",
              "      fill: #FFFFFF;\n",
              "    }\n",
              "  </style>\n",
              "\n",
              "    <script>\n",
              "      const buttonEl =\n",
              "        document.querySelector('#df-e256e894-4b94-4ae5-ac0f-5a8ee2bdaf34 button.colab-df-convert');\n",
              "      buttonEl.style.display =\n",
              "        google.colab.kernel.accessAllowed ? 'block' : 'none';\n",
              "\n",
              "      async function convertToInteractive(key) {\n",
              "        const element = document.querySelector('#df-e256e894-4b94-4ae5-ac0f-5a8ee2bdaf34');\n",
              "        const dataTable =\n",
              "          await google.colab.kernel.invokeFunction('convertToInteractive',\n",
              "                                                    [key], {});\n",
              "        if (!dataTable) return;\n",
              "\n",
              "        const docLinkHtml = 'Like what you see? Visit the ' +\n",
              "          '<a target=\"_blank\" href=https://colab.research.google.com/notebooks/data_table.ipynb>data table notebook</a>'\n",
              "          + ' to learn more about interactive tables.';\n",
              "        element.innerHTML = '';\n",
              "        dataTable['output_type'] = 'display_data';\n",
              "        await google.colab.output.renderOutput(dataTable, element);\n",
              "        const docLink = document.createElement('div');\n",
              "        docLink.innerHTML = docLinkHtml;\n",
              "        element.appendChild(docLink);\n",
              "      }\n",
              "    </script>\n",
              "  </div>\n",
              "\n",
              "\n",
              "<div id=\"df-713a7442-0768-4bb6-bce9-5c6f22488c08\">\n",
              "  <button class=\"colab-df-quickchart\" onclick=\"quickchart('df-713a7442-0768-4bb6-bce9-5c6f22488c08')\"\n",
              "            title=\"Suggest charts\"\n",
              "            style=\"display:none;\">\n",
              "\n",
              "<svg xmlns=\"http://www.w3.org/2000/svg\" height=\"24px\"viewBox=\"0 0 24 24\"\n",
              "     width=\"24px\">\n",
              "    <g>\n",
              "        <path d=\"M19 3H5c-1.1 0-2 .9-2 2v14c0 1.1.9 2 2 2h14c1.1 0 2-.9 2-2V5c0-1.1-.9-2-2-2zM9 17H7v-7h2v7zm4 0h-2V7h2v10zm4 0h-2v-4h2v4z\"/>\n",
              "    </g>\n",
              "</svg>\n",
              "  </button>\n",
              "\n",
              "<style>\n",
              "  .colab-df-quickchart {\n",
              "      --bg-color: #E8F0FE;\n",
              "      --fill-color: #1967D2;\n",
              "      --hover-bg-color: #E2EBFA;\n",
              "      --hover-fill-color: #174EA6;\n",
              "      --disabled-fill-color: #AAA;\n",
              "      --disabled-bg-color: #DDD;\n",
              "  }\n",
              "\n",
              "  [theme=dark] .colab-df-quickchart {\n",
              "      --bg-color: #3B4455;\n",
              "      --fill-color: #D2E3FC;\n",
              "      --hover-bg-color: #434B5C;\n",
              "      --hover-fill-color: #FFFFFF;\n",
              "      --disabled-bg-color: #3B4455;\n",
              "      --disabled-fill-color: #666;\n",
              "  }\n",
              "\n",
              "  .colab-df-quickchart {\n",
              "    background-color: var(--bg-color);\n",
              "    border: none;\n",
              "    border-radius: 50%;\n",
              "    cursor: pointer;\n",
              "    display: none;\n",
              "    fill: var(--fill-color);\n",
              "    height: 32px;\n",
              "    padding: 0;\n",
              "    width: 32px;\n",
              "  }\n",
              "\n",
              "  .colab-df-quickchart:hover {\n",
              "    background-color: var(--hover-bg-color);\n",
              "    box-shadow: 0 1px 2px rgba(60, 64, 67, 0.3), 0 1px 3px 1px rgba(60, 64, 67, 0.15);\n",
              "    fill: var(--button-hover-fill-color);\n",
              "  }\n",
              "\n",
              "  .colab-df-quickchart-complete:disabled,\n",
              "  .colab-df-quickchart-complete:disabled:hover {\n",
              "    background-color: var(--disabled-bg-color);\n",
              "    fill: var(--disabled-fill-color);\n",
              "    box-shadow: none;\n",
              "  }\n",
              "\n",
              "  .colab-df-spinner {\n",
              "    border: 2px solid var(--fill-color);\n",
              "    border-color: transparent;\n",
              "    border-bottom-color: var(--fill-color);\n",
              "    animation:\n",
              "      spin 1s steps(1) infinite;\n",
              "  }\n",
              "\n",
              "  @keyframes spin {\n",
              "    0% {\n",
              "      border-color: transparent;\n",
              "      border-bottom-color: var(--fill-color);\n",
              "      border-left-color: var(--fill-color);\n",
              "    }\n",
              "    20% {\n",
              "      border-color: transparent;\n",
              "      border-left-color: var(--fill-color);\n",
              "      border-top-color: var(--fill-color);\n",
              "    }\n",
              "    30% {\n",
              "      border-color: transparent;\n",
              "      border-left-color: var(--fill-color);\n",
              "      border-top-color: var(--fill-color);\n",
              "      border-right-color: var(--fill-color);\n",
              "    }\n",
              "    40% {\n",
              "      border-color: transparent;\n",
              "      border-right-color: var(--fill-color);\n",
              "      border-top-color: var(--fill-color);\n",
              "    }\n",
              "    60% {\n",
              "      border-color: transparent;\n",
              "      border-right-color: var(--fill-color);\n",
              "    }\n",
              "    80% {\n",
              "      border-color: transparent;\n",
              "      border-right-color: var(--fill-color);\n",
              "      border-bottom-color: var(--fill-color);\n",
              "    }\n",
              "    90% {\n",
              "      border-color: transparent;\n",
              "      border-bottom-color: var(--fill-color);\n",
              "    }\n",
              "  }\n",
              "</style>\n",
              "\n",
              "  <script>\n",
              "    async function quickchart(key) {\n",
              "      const quickchartButtonEl =\n",
              "        document.querySelector('#' + key + ' button');\n",
              "      quickchartButtonEl.disabled = true;  // To prevent multiple clicks.\n",
              "      quickchartButtonEl.classList.add('colab-df-spinner');\n",
              "      try {\n",
              "        const charts = await google.colab.kernel.invokeFunction(\n",
              "            'suggestCharts', [key], {});\n",
              "      } catch (error) {\n",
              "        console.error('Error during call to suggestCharts:', error);\n",
              "      }\n",
              "      quickchartButtonEl.classList.remove('colab-df-spinner');\n",
              "      quickchartButtonEl.classList.add('colab-df-quickchart-complete');\n",
              "    }\n",
              "    (() => {\n",
              "      let quickchartButtonEl =\n",
              "        document.querySelector('#df-713a7442-0768-4bb6-bce9-5c6f22488c08 button');\n",
              "      quickchartButtonEl.style.display =\n",
              "        google.colab.kernel.accessAllowed ? 'block' : 'none';\n",
              "    })();\n",
              "  </script>\n",
              "</div>\n",
              "\n",
              "    </div>\n",
              "  </div>\n"
            ],
            "application/vnd.google.colaboratory.intrinsic+json": {
              "type": "dataframe",
              "variable_name": "data",
              "summary": "{\n  \"name\": \"data\",\n  \"rows\": 1000,\n  \"fields\": [\n    {\n      \"column\": \"X\",\n      \"properties\": {\n        \"dtype\": \"float32\",\n        \"num_unique_values\": 1000,\n        \"samples\": [\n          0.5209999680519104,\n          0.7369999885559082,\n          0.7400000095367432\n        ],\n        \"semantic_type\": \"\",\n        \"description\": \"\"\n      }\n    },\n    {\n      \"column\": \"Y\",\n      \"properties\": {\n        \"dtype\": \"float32\",\n        \"num_unique_values\": 1000,\n        \"samples\": [\n          1.0562999248504639,\n          1.1210999488830566,\n          1.121999979019165\n        ],\n        \"semantic_type\": \"\",\n        \"description\": \"\"\n      }\n    }\n  ]\n}"
            }
          },
          "metadata": {},
          "execution_count": 15
        }
      ]
    },
    {
      "cell_type": "code",
      "source": [
        "train_split = int(0.8 * len(data))\n",
        "train_split"
      ],
      "metadata": {
        "colab": {
          "base_uri": "https://localhost:8080/"
        },
        "id": "WkP2xpNcxBlW",
        "outputId": "9f226dc7-cb18-438d-cc11-079943edb5fb"
      },
      "execution_count": null,
      "outputs": [
        {
          "output_type": "execute_result",
          "data": {
            "text/plain": [
              "800"
            ]
          },
          "metadata": {},
          "execution_count": 16
        }
      ]
    },
    {
      "cell_type": "code",
      "source": [
        "x_train, y_train = data.X[:train_split], data.Y[:train_split]\n",
        "x_test, y_test = data.Y[train_split:], data.Y[train_split:]"
      ],
      "metadata": {
        "id": "YYi9TsrjvfwW"
      },
      "execution_count": null,
      "outputs": []
    },
    {
      "cell_type": "code",
      "source": [
        "import matplotlib.pyplot as plt\n",
        "\n",
        "def plot(train_data,\n",
        "         train_label,\n",
        "         test_label,\n",
        "         test_data):\n",
        "  plt.figure(figsize = (7, 7))\n",
        "  plt.scatter(train_data, train_label, color = 'g', s = 5, label = 'Train Data')\n",
        "  plt.scatter(test_data, test_label, color = 'r', s = 5, label = 'Test Data')\n",
        "  plt.legend(prop = {'size' : 10})\n",
        "  # plt.axis(False)\n",
        "  plt.show()"
      ],
      "metadata": {
        "id": "Lmu0CXgRv95e"
      },
      "execution_count": null,
      "outputs": []
    },
    {
      "cell_type": "code",
      "source": [
        "plot(\n",
        "      train_data = x_train,\n",
        "      train_label = y_train,\n",
        "      test_data = x_test,\n",
        "      test_label = y_test)"
      ],
      "metadata": {
        "colab": {
          "base_uri": "https://localhost:8080/",
          "height": 599
        },
        "id": "yFBm0KA3wUlG",
        "outputId": "1836421a-456e-4ee4-fadb-f399806d4058"
      },
      "execution_count": null,
      "outputs": [
        {
          "output_type": "display_data",
          "data": {
            "text/plain": [
              "<Figure size 700x700 with 1 Axes>"
            ],
            "image/png": "[encoded data removed]"
          },
          "metadata": {}
        }
      ]
    },
    {
      "cell_type": "markdown",
      "source": [
        "## Excercise 2\n",
        "\n",
        "* Build a PyTorch model by subclassing nn.Module.\n",
        "* Inside should be a randomly initialized nn.Parameter() with requires_grad=True, one for weights and one for bias.\n",
        "* Implement the forward() method to compute the linear regression function you used to create the dataset in 1.\n",
        "* Once you've constructed the model, make an instance of it and check its state_dict()."
      ],
      "metadata": {
        "id": "cNH8mPPmwWS2"
      }
    },
    {
      "cell_type": "code",
      "source": [
        "import torch\n",
        "\n",
        "device = 'cuda' if torch.cuda.is_available() else 'cpu'\n",
        "device"
      ],
      "metadata": {
        "colab": {
          "base_uri": "https://localhost:8080/",
          "height": 35
        },
        "id": "YzLrLWP7z9HG",
        "outputId": "e0d2b110-c90c-4cf4-eb38-e0146300fa34"
      },
      "execution_count": null,
      "outputs": [
        {
          "output_type": "execute_result",
          "data": {
            "text/plain": [
              "'cpu'"
            ],
            "application/vnd.google.colaboratory.intrinsic+json": {
              "type": "string"
            }
          },
          "metadata": {},
          "execution_count": 20
        }
      ]
    },
    {
      "cell_type": "code",
      "source": [
        "from torch import nn\n",
        "\n",
        "if device == 'cuda':\n",
        "  torch.cuda.manual_seed(42)\n",
        "\n",
        "else:\n",
        "  torch.manual_seed(42)\n",
        "\n",
        "class LinearRegressionModel(nn.Module):\n",
        "  def __init__(self):\n",
        "    super().__init__()\n",
        "    self.weight = nn.Parameter(torch.rand(1,\n",
        "                                          requires_grad = True,\n",
        "                                          dtype = torch.float32))\n",
        "    self.bias = nn.Parameter(torch.rand(1,\n",
        "                                        requires_grad = True,\n",
        "                                        dtype = torch.float32))\n",
        "\n",
        "  def forward(self, x : torch.Tensor) -> torch.Tensor:\n",
        "    return self.weight * x + self.bias\n",
        "\n",
        "  def save(self, path):\n",
        "    torch.save(self.state_dict(), path)"
      ],
      "metadata": {
        "id": "wu2IjbT20Rce"
      },
      "execution_count": null,
      "outputs": []
    },
    {
      "cell_type": "code",
      "source": [
        "model = LinearRegressionModel()\n",
        "list(model.parameters())"
      ],
      "metadata": {
        "colab": {
          "base_uri": "https://localhost:8080/"
        },
        "id": "W4rMPZ7v0W2X",
        "outputId": "69d7fde4-d7bd-4049-aa10-c190d6cb935b"
      },
      "execution_count": null,
      "outputs": [
        {
          "output_type": "execute_result",
          "data": {
            "text/plain": [
              "[Parameter containing:\n",
              " tensor([0.8823], requires_grad=True),\n",
              " Parameter containing:\n",
              " tensor([0.9150], requires_grad=True)]"
            ]
          },
          "metadata": {},
          "execution_count": 22
        }
      ]
    },
    {
      "cell_type": "markdown",
      "source": [
        "## Excercise 3\n",
        "\n",
        "* Create a loss function and optimizer using nn.L1Loss() and torch.optim.SGD(params, lr) respectively.\n",
        "* Set the learning rate of the optimizer to be 0.01 and the parameters to optimize should be the model parameters from the model you created in excercise 2.\n",
        "* Write a training loop to perform the appropriate training steps for 300 epochs.\n",
        "* The training loop should test the model on the test dataset every 20 epochs."
      ],
      "metadata": {
        "id": "jeXfSyc70-CW"
      }
    },
    {
      "cell_type": "code",
      "source": [
        "import torch\n",
        "\n",
        "device = 'cuda' if torch.cuda.is_available() else 'cpu'\n",
        "device"
      ],
      "metadata": {
        "colab": {
          "base_uri": "https://localhost:8080/",
          "height": 35
        },
        "id": "l-WEoNE8CSTT",
        "outputId": "1217ab96-826b-4a4e-f516-b9eed3151a84"
      },
      "execution_count": null,
      "outputs": [
        {
          "output_type": "execute_result",
          "data": {
            "text/plain": [
              "'cpu'"
            ],
            "application/vnd.google.colaboratory.intrinsic+json": {
              "type": "string"
            }
          },
          "metadata": {},
          "execution_count": 23
        }
      ]
    },
    {
      "cell_type": "code",
      "source": [
        "weight = 0.3\n",
        "bias = 0.9\n",
        "\n",
        "strat = 0\n",
        "end = 1\n",
        "step = 0.001\n",
        "\n",
        "x = torch.arange(start, end, step)\n",
        "y = weight * x + bias\n",
        "\n",
        "len(x), len(x)"
      ],
      "metadata": {
        "colab": {
          "base_uri": "https://localhost:8080/"
        },
        "id": "feJC0NMxGMg0",
        "outputId": "32c72b47-96af-46ba-e247-3e188cb793f8"
      },
      "execution_count": null,
      "outputs": [
        {
          "output_type": "execute_result",
          "data": {
            "text/plain": [
              "(1000, 1000)"
            ]
          },
          "metadata": {},
          "execution_count": 24
        }
      ]
    },
    {
      "cell_type": "code",
      "source": [
        "trainig_split = int(0.8 * len(x))\n",
        "train_split"
      ],
      "metadata": {
        "colab": {
          "base_uri": "https://localhost:8080/"
        },
        "id": "vXlCu4K9HMkE",
        "outputId": "330ffb01-a20f-4f74-ceb0-ee89a318f402"
      },
      "execution_count": null,
      "outputs": [
        {
          "output_type": "execute_result",
          "data": {
            "text/plain": [
              "800"
            ]
          },
          "metadata": {},
          "execution_count": 25
        }
      ]
    },
    {
      "cell_type": "code",
      "source": [
        "x_train, y_train = x[:train_split], y[:train_split]\n",
        "x_test, y_test = x[train_split:], y[train_split:]\n",
        "\n",
        "\n",
        "print(len(x_train), len(y_train), len(x_test), len(y_test))\n",
        "print(x_train.shape, y_train.shape, x_test.shape, y_test.shape)"
      ],
      "metadata": {
        "colab": {
          "base_uri": "https://localhost:8080/"
        },
        "id": "F9MuG_7BHT98",
        "outputId": "1819d3cc-78bc-4884-fedb-b39fdff5cd67"
      },
      "execution_count": null,
      "outputs": [
        {
          "output_type": "stream",
          "name": "stdout",
          "text": [
            "800 800 200 200\n",
            "torch.Size([800]) torch.Size([800]) torch.Size([200]) torch.Size([200])\n"
          ]
        }
      ]
    },
    {
      "cell_type": "code",
      "source": [
        "model = LinearRegressionModel()\n",
        "model.state_dict()"
      ],
      "metadata": {
        "colab": {
          "base_uri": "https://localhost:8080/"
        },
        "id": "vsI9JLl2CdA7",
        "outputId": "fa515f05-57b1-400b-f07a-0d46a46e086b"
      },
      "execution_count": null,
      "outputs": [
        {
          "output_type": "execute_result",
          "data": {
            "text/plain": [
              "OrderedDict([('weight', tensor([0.3829])), ('bias', tensor([0.9593]))])"
            ]
          },
          "metadata": {},
          "execution_count": 27
        }
      ]
    },
    {
      "cell_type": "code",
      "source": [
        "loss_fn = nn.L1Loss()\n",
        "optimizer = torch.optim.SGD(params = model.parameters(),\n",
        "                            lr= 0.001)"
      ],
      "metadata": {
        "id": "RWnbS_kqCfwD"
      },
      "execution_count": null,
      "outputs": []
    },
    {
      "cell_type": "code",
      "source": [
        "from torch import nn\n",
        "\n",
        "if device == 'cuda':\n",
        "  torch.cuda.manual_seed(42)\n",
        "\n",
        "else:\n",
        "  torch.manual_seed(42)\n",
        "\n",
        "\n",
        "# Trainig and Testing loop...\n",
        "\n",
        "epochs = 300\n",
        "x_train, y_train = x_train.to(device), y_train.to(device)\n",
        "x_test, y_test = x_test.to(device), y_test.to(device)\n",
        "model = model.to(device)\n",
        "\n",
        "for epoch in range(epochs):\n",
        "  # Training...\n",
        "  model.train()\n",
        "\n",
        "  y_pred = model(x_train)\n",
        "  train_loss = loss_fn(y_pred, y_train)\n",
        "\n",
        "  # optimizer.zero_grad()\n",
        "  train_loss.backward()\n",
        "  optimizer.step()\n",
        "\n",
        "  # Testing...\n",
        "  model.eval()\n",
        "\n",
        "  test_pred = model(x_test)\n",
        "  test_loss = loss_fn(test_pred, y_test)\n",
        "\n",
        "  if epoch % 20 == 0:\n",
        "    print(f'Epoch : {epoch} | Training Loss : {train_loss:.4f} | Testing Loss : {test_loss:.4f}')"
      ],
      "metadata": {
        "colab": {
          "base_uri": "https://localhost:8080/"
        },
        "id": "7D6eaLuKC6Us",
        "outputId": "b54e7576-78b4-405d-c98b-d859e4e7db52"
      },
      "execution_count": null,
      "outputs": [
        {
          "output_type": "stream",
          "name": "stdout",
          "text": [
            "Epoch : 0 | Training Loss : 0.0924 | Testing Loss : 0.1325\n",
            "Epoch : 20 | Training Loss : 0.0793 | Testing Loss : 0.0749\n",
            "Epoch : 40 | Training Loss : 0.0326 | Testing Loss : 0.0710\n",
            "Epoch : 60 | Training Loss : 0.0350 | Testing Loss : 0.0402\n",
            "Epoch : 80 | Training Loss : 0.0800 | Testing Loss : 0.0817\n",
            "Epoch : 100 | Training Loss : 0.0894 | Testing Loss : 0.1003\n",
            "Epoch : 120 | Training Loss : 0.0736 | Testing Loss : 0.1064\n",
            "Epoch : 140 | Training Loss : 0.0303 | Testing Loss : 0.0269\n",
            "Epoch : 160 | Training Loss : 0.0331 | Testing Loss : 0.0031\n",
            "Epoch : 180 | Training Loss : 0.0763 | Testing Loss : 0.1115\n",
            "Epoch : 200 | Training Loss : 0.0900 | Testing Loss : 0.0767\n",
            "Epoch : 220 | Training Loss : 0.0751 | Testing Loss : 0.1186\n",
            "Epoch : 240 | Training Loss : 0.0317 | Testing Loss : 0.0325\n",
            "Epoch : 260 | Training Loss : 0.0336 | Testing Loss : 0.0165\n",
            "Epoch : 280 | Training Loss : 0.0758 | Testing Loss : 0.0808\n"
          ]
        }
      ]
    },
    {
      "cell_type": "markdown",
      "source": [
        "## Excercise 4\n",
        "\n",
        "* Make predictions with the trained model on the test data.\n",
        "* Visualize these predictions against the original training and testing data (note: you may need to make sure the predictions are not on the GPU if you want to use non-CUDA-enabled libraries such as matplotlib to plot)."
      ],
      "metadata": {
        "id": "c6RsOKfmEeMc"
      }
    },
    {
      "cell_type": "code",
      "source": [
        "with torch.inference_mode():\n",
        "  y_pred = model(x_test)\n",
        "\n",
        "y_pred == y_test"
      ],
      "metadata": {
        "colab": {
          "base_uri": "https://localhost:8080/"
        },
        "id": "TfIDVGG9OMAd",
        "outputId": "d733eaee-452e-4d46-c206-6501edc31ce6"
      },
      "execution_count": null,
      "outputs": [
        {
          "output_type": "execute_result",
          "data": {
            "text/plain": [
              "tensor([False, False, False, False, False, False, False, False, False, False,\n",
              "        False, False, False, False, False, False, False, False, False, False,\n",
              "        False, False, False, False, False, False, False, False, False, False,\n",
              "        False, False, False, False, False, False, False, False, False, False,\n",
              "        False, False, False, False, False, False, False, False, False, False,\n",
              "        False, False, False, False, False, False, False, False, False, False,\n",
              "        False, False, False, False, False, False, False, False, False, False,\n",
              "        False, False, False, False, False, False, False, False, False, False,\n",
              "        False, False, False, False, False, False, False, False, False, False,\n",
              "        False, False, False, False, False, False, False, False, False, False,\n",
              "        False, False, False, False, False, False, False, False, False, False,\n",
              "        False, False, False, False, False, False, False, False, False, False,\n",
              "        False, False, False, False, False, False, False, False, False, False,\n",
              "        False, False, False, False, False, False, False, False, False, False,\n",
              "        False, False, False, False, False, False, False, False, False, False,\n",
              "        False, False, False, False, False, False, False, False, False, False,\n",
              "        False, False, False, False, False, False, False, False, False, False,\n",
              "        False, False, False, False, False, False, False, False, False, False,\n",
              "        False, False, False, False, False, False, False, False, False, False,\n",
              "        False, False, False, False, False, False, False, False, False, False])"
            ]
          },
          "metadata": {},
          "execution_count": 30
        }
      ]
    },
    {
      "cell_type": "code",
      "source": [
        "import matplotlib.pyplot as plt\n",
        "\n",
        "def plot(train_label,\n",
        "         train_data,\n",
        "         test_data,\n",
        "         test_label,\n",
        "         prediction = None):\n",
        "  plt.scatter(train_data, train_label, color = 'b', s = 3, label = 'Training Data')\n",
        "  plt.scatter(test_data, test_label, color = 'g', s =3, label = 'Testing Data')\n",
        "\n",
        "  if prediction is not None:\n",
        "    if isinstance(prediction, torch.Tensor):\n",
        "        prediction = prediction.cpu()\n",
        "    plt.scatter(test_data, prediction, color = 'r', s = 3, label = 'Prediction')"
      ],
      "metadata": {
        "id": "GvtagfecKxhb"
      },
      "execution_count": null,
      "outputs": []
    },
    {
      "cell_type": "code",
      "source": [
        "plot(train_data = x_train.cpu(),\n",
        "     train_label = y_train.cpu(),\n",
        "     test_data = x_test.cpu(),\n",
        "     test_label = y_test.cpu(),\n",
        "     prediction = y_pred\n",
        "     )"
      ],
      "metadata": {
        "colab": {
          "base_uri": "https://localhost:8080/",
          "height": 430
        },
        "id": "1Mr9asNALWKE",
        "outputId": "e68f7961-d2da-4cca-e48a-36369b8953cd"
      },
      "execution_count": null,
      "outputs": [
        {
          "output_type": "display_data",
          "data": {
            "text/plain": [
              "<Figure size 640x480 with 1 Axes>"
            ],
            "image/png": "[encoded data removed]"
          },
          "metadata": {}
        }
      ]
    },
    {
      "cell_type": "markdown",
      "source": [
        "## Excercise 5\n",
        "\n",
        "* Save your trained model's state_dict() to file.\n",
        "* Create a new instance of your model class you made in 2. and load in the state_dict() you just saved to it.\n",
        "* Perform predictions on your test data with the loaded model and confirm they match the original model predictions from 4."
      ],
      "metadata": {
        "id": "-SUYiYUEMsxL"
      }
    },
    {
      "cell_type": "code",
      "source": [
        "model.save('LinearModel.pth')"
      ],
      "metadata": {
        "id": "22XCa2sGScXb"
      },
      "execution_count": null,
      "outputs": []
    },
    {
      "cell_type": "code",
      "source": [
        "loaded_model = torch.load('/content/LinearModel.pth')\n",
        "mode_1 = model.load_state_dict(loaded_model)\n",
        "mode_1"
      ],
      "metadata": {
        "colab": {
          "base_uri": "https://localhost:8080/"
        },
        "id": "cD9COmK1SkL0",
        "outputId": "d876ccad-316c-4daa-940b-9d556bb86477"
      },
      "execution_count": null,
      "outputs": [
        {
          "output_type": "execute_result",
          "data": {
            "text/plain": [
              "<All keys matched successfully>"
            ]
          },
          "metadata": {},
          "execution_count": 34
        }
      ]
    },
    {
      "cell_type": "code",
      "source": [
        "with torch.inference_mode():\n",
        "  y_pred = model(x_test)\n",
        "\n",
        "y_test[:10] == y_pred[:10]"
      ],
      "metadata": {
        "colab": {
          "base_uri": "https://localhost:8080/"
        },
        "id": "mjgOh3nST91L",
        "outputId": "9b66c55f-9161-4b74-98a9-1e38f7fe79a1"
      },
      "execution_count": null,
      "outputs": [
        {
          "output_type": "execute_result",
          "data": {
            "text/plain": [
              "tensor([False, False, False, False, False, False, False, False, False, False])"
            ]
          },
          "metadata": {},
          "execution_count": 35
        }
      ]
    },
    {
      "cell_type": "markdown",
      "source": [
        "# Excercise Neural netwowrk Classification."
      ],
      "metadata": {
        "id": "UzwYdu0BXuY7"
      }
    },
    {
      "cell_type": "markdown",
      "source": [
        "## Excercise 1\n",
        "\n",
        "* Make a binary classification dataset with Scikit-Learn's make_moons() function.\n",
        "* For consistency, the dataset should have 1000 samples and a random_state=42.\n",
        "* Turn the data into PyTorch tensors. Split the data into training and test sets using train_test_split with 80% training and 20% testing."
      ],
      "metadata": {
        "id": "81Lx5DFq5TTY"
      }
    },
    {
      "cell_type": "code",
      "source": [
        "import torch\n",
        "\n",
        "device = 'cuda' if torch.cuda.is_available() else 'cpu'\n",
        "device"
      ],
      "metadata": {
        "colab": {
          "base_uri": "https://localhost:8080/",
          "height": 35
        },
        "id": "q-VYu5DF5aJA",
        "outputId": "b226d76b-ba1d-40fe-d2b2-c8ce8164df4b"
      },
      "execution_count": 185,
      "outputs": [
        {
          "output_type": "execute_result",
          "data": {
            "text/plain": [
              "'cpu'"
            ],
            "application/vnd.google.colaboratory.intrinsic+json": {
              "type": "string"
            }
          },
          "metadata": {},
          "execution_count": 185
        }
      ]
    },
    {
      "cell_type": "code",
      "source": [
        "import pandas as pd\n",
        "from sklearn.datasets import make_moons\n",
        "\n",
        "data = make_moons(n_samples=1000,\n",
        "                  shuffle=True,\n",
        "                  noise=None,\n",
        "                  random_state=42)\n",
        "x = data[0]\n",
        "y = data[1]\n",
        "\n",
        "data_frame = pd.DataFrame({\n",
        "    'X1' : x[:,0],\n",
        "    'X2' : x[:,1],\n",
        "    'Y' : y\n",
        "})\n",
        "\n",
        "data_frame.head()"
      ],
      "metadata": {
        "colab": {
          "base_uri": "https://localhost:8080/",
          "height": 206
        },
        "id": "jAot7170Br6N",
        "outputId": "ad63c94e-1104-4676-b7a1-4356a90c131a"
      },
      "execution_count": 186,
      "outputs": [
        {
          "output_type": "execute_result",
          "data": {
            "text/plain": [
              "         X1        X2  Y\n",
              "0  0.008727  0.368174  1\n",
              "1  0.921384 -0.496905  1\n",
              "2  0.940226 -0.498212  1\n",
              "3  0.465875 -0.345406  1\n",
              "4 -0.850412  0.526117  0"
            ],
            "text/html": [
              "\n",
              "  <div id=\"df-c0f005be-847a-4f21-8282-243ffc0339f3\" class=\"colab-df-container\">\n",
              "    <div>\n",
              "<style scoped>\n",
              "    .dataframe tbody tr th:only-of-type {\n",
              "        vertical-align: middle;\n",
              "    }\n",
              "\n",
              "    .dataframe tbody tr th {\n",
              "        vertical-align: top;\n",
              "    }\n",
              "\n",
              "    .dataframe thead th {\n",
              "        text-align: right;\n",
              "    }\n",
              "</style>\n",
              "<table border=\"1\" class=\"dataframe\">\n",
              "  <thead>\n",
              "    <tr style=\"text-align: right;\">\n",
              "      <th></th>\n",
              "      <th>X1</th>\n",
              "      <th>X2</th>\n",
              "      <th>Y</th>\n",
              "    </tr>\n",
              "  </thead>\n",
              "  <tbody>\n",
              "    <tr>\n",
              "      <th>0</th>\n",
              "      <td>0.008727</td>\n",
              "      <td>0.368174</td>\n",
              "      <td>1</td>\n",
              "    </tr>\n",
              "    <tr>\n",
              "      <th>1</th>\n",
              "      <td>0.921384</td>\n",
              "      <td>-0.496905</td>\n",
              "      <td>1</td>\n",
              "    </tr>\n",
              "    <tr>\n",
              "      <th>2</th>\n",
              "      <td>0.940226</td>\n",
              "      <td>-0.498212</td>\n",
              "      <td>1</td>\n",
              "    </tr>\n",
              "    <tr>\n",
              "      <th>3</th>\n",
              "      <td>0.465875</td>\n",
              "      <td>-0.345406</td>\n",
              "      <td>1</td>\n",
              "    </tr>\n",
              "    <tr>\n",
              "      <th>4</th>\n",
              "      <td>-0.850412</td>\n",
              "      <td>0.526117</td>\n",
              "      <td>0</td>\n",
              "    </tr>\n",
              "  </tbody>\n",
              "</table>\n",
              "</div>\n",
              "    <div class=\"colab-df-buttons\">\n",
              "\n",
              "  <div class=\"colab-df-container\">\n",
              "    <button class=\"colab-df-convert\" onclick=\"convertToInteractive('df-c0f005be-847a-4f21-8282-243ffc0339f3')\"\n",
              "            title=\"Convert this dataframe to an interactive table.\"\n",
              "            style=\"display:none;\">\n",
              "\n",
              "  <svg xmlns=\"http://www.w3.org/2000/svg\" height=\"24px\" viewBox=\"0 -960 960 960\">\n",
              "    <path d=\"M120-120v-720h720v720H120Zm60-500h600v-160H180v160Zm220 220h160v-160H400v160Zm0 220h160v-160H400v160ZM180-400h160v-160H180v160Zm440 0h160v-160H620v160ZM180-180h160v-160H180v160Zm440 0h160v-160H620v160Z\"/>\n",
              "  </svg>\n",
              "    </button>\n",
              "\n",
              "  <style>\n",
              "    .colab-df-container {\n",
              "      display:flex;\n",
              "      gap: 12px;\n",
              "    }\n",
              "\n",
              "    .colab-df-convert {\n",
              "      background-color: #E8F0FE;\n",
              "      border: none;\n",
              "      border-radius: 50%;\n",
              "      cursor: pointer;\n",
              "      display: none;\n",
              "      fill: #1967D2;\n",
              "      height: 32px;\n",
              "      padding: 0 0 0 0;\n",
              "      width: 32px;\n",
              "    }\n",
              "\n",
              "    .colab-df-convert:hover {\n",
              "      background-color: #E2EBFA;\n",
              "      box-shadow: 0px 1px 2px rgba(60, 64, 67, 0.3), 0px 1px 3px 1px rgba(60, 64, 67, 0.15);\n",
              "      fill: #174EA6;\n",
              "    }\n",
              "\n",
              "    .colab-df-buttons div {\n",
              "      margin-bottom: 4px;\n",
              "    }\n",
              "\n",
              "    [theme=dark] .colab-df-convert {\n",
              "      background-color: #3B4455;\n",
              "      fill: #D2E3FC;\n",
              "    }\n",
              "\n",
              "    [theme=dark] .colab-df-convert:hover {\n",
              "      background-color: #434B5C;\n",
              "      box-shadow: 0px 1px 3px 1px rgba(0, 0, 0, 0.15);\n",
              "      filter: drop-shadow(0px 1px 2px rgba(0, 0, 0, 0.3));\n",
              "      fill: #FFFFFF;\n",
              "    }\n",
              "  </style>\n",
              "\n",
              "    <script>\n",
              "      const buttonEl =\n",
              "        document.querySelector('#df-c0f005be-847a-4f21-8282-243ffc0339f3 button.colab-df-convert');\n",
              "      buttonEl.style.display =\n",
              "        google.colab.kernel.accessAllowed ? 'block' : 'none';\n",
              "\n",
              "      async function convertToInteractive(key) {\n",
              "        const element = document.querySelector('#df-c0f005be-847a-4f21-8282-243ffc0339f3');\n",
              "        const dataTable =\n",
              "          await google.colab.kernel.invokeFunction('convertToInteractive',\n",
              "                                                    [key], {});\n",
              "        if (!dataTable) return;\n",
              "\n",
              "        const docLinkHtml = 'Like what you see? Visit the ' +\n",
              "          '<a target=\"_blank\" href=https://colab.research.google.com/notebooks/data_table.ipynb>data table notebook</a>'\n",
              "          + ' to learn more about interactive tables.';\n",
              "        element.innerHTML = '';\n",
              "        dataTable['output_type'] = 'display_data';\n",
              "        await google.colab.output.renderOutput(dataTable, element);\n",
              "        const docLink = document.createElement('div');\n",
              "        docLink.innerHTML = docLinkHtml;\n",
              "        element.appendChild(docLink);\n",
              "      }\n",
              "    </script>\n",
              "  </div>\n",
              "\n",
              "\n",
              "<div id=\"df-11eb5c38-7159-4074-8c71-8ddd213c87fb\">\n",
              "  <button class=\"colab-df-quickchart\" onclick=\"quickchart('df-11eb5c38-7159-4074-8c71-8ddd213c87fb')\"\n",
              "            title=\"Suggest charts\"\n",
              "            style=\"display:none;\">\n",
              "\n",
              "<svg xmlns=\"http://www.w3.org/2000/svg\" height=\"24px\"viewBox=\"0 0 24 24\"\n",
              "     width=\"24px\">\n",
              "    <g>\n",
              "        <path d=\"M19 3H5c-1.1 0-2 .9-2 2v14c0 1.1.9 2 2 2h14c1.1 0 2-.9 2-2V5c0-1.1-.9-2-2-2zM9 17H7v-7h2v7zm4 0h-2V7h2v10zm4 0h-2v-4h2v4z\"/>\n",
              "    </g>\n",
              "</svg>\n",
              "  </button>\n",
              "\n",
              "<style>\n",
              "  .colab-df-quickchart {\n",
              "      --bg-color: #E8F0FE;\n",
              "      --fill-color: #1967D2;\n",
              "      --hover-bg-color: #E2EBFA;\n",
              "      --hover-fill-color: #174EA6;\n",
              "      --disabled-fill-color: #AAA;\n",
              "      --disabled-bg-color: #DDD;\n",
              "  }\n",
              "\n",
              "  [theme=dark] .colab-df-quickchart {\n",
              "      --bg-color: #3B4455;\n",
              "      --fill-color: #D2E3FC;\n",
              "      --hover-bg-color: #434B5C;\n",
              "      --hover-fill-color: #FFFFFF;\n",
              "      --disabled-bg-color: #3B4455;\n",
              "      --disabled-fill-color: #666;\n",
              "  }\n",
              "\n",
              "  .colab-df-quickchart {\n",
              "    background-color: var(--bg-color);\n",
              "    border: none;\n",
              "    border-radius: 50%;\n",
              "    cursor: pointer;\n",
              "    display: none;\n",
              "    fill: var(--fill-color);\n",
              "    height: 32px;\n",
              "    padding: 0;\n",
              "    width: 32px;\n",
              "  }\n",
              "\n",
              "  .colab-df-quickchart:hover {\n",
              "    background-color: var(--hover-bg-color);\n",
              "    box-shadow: 0 1px 2px rgba(60, 64, 67, 0.3), 0 1px 3px 1px rgba(60, 64, 67, 0.15);\n",
              "    fill: var(--button-hover-fill-color);\n",
              "  }\n",
              "\n",
              "  .colab-df-quickchart-complete:disabled,\n",
              "  .colab-df-quickchart-complete:disabled:hover {\n",
              "    background-color: var(--disabled-bg-color);\n",
              "    fill: var(--disabled-fill-color);\n",
              "    box-shadow: none;\n",
              "  }\n",
              "\n",
              "  .colab-df-spinner {\n",
              "    border: 2px solid var(--fill-color);\n",
              "    border-color: transparent;\n",
              "    border-bottom-color: var(--fill-color);\n",
              "    animation:\n",
              "      spin 1s steps(1) infinite;\n",
              "  }\n",
              "\n",
              "  @keyframes spin {\n",
              "    0% {\n",
              "      border-color: transparent;\n",
              "      border-bottom-color: var(--fill-color);\n",
              "      border-left-color: var(--fill-color);\n",
              "    }\n",
              "    20% {\n",
              "      border-color: transparent;\n",
              "      border-left-color: var(--fill-color);\n",
              "      border-top-color: var(--fill-color);\n",
              "    }\n",
              "    30% {\n",
              "      border-color: transparent;\n",
              "      border-left-color: var(--fill-color);\n",
              "      border-top-color: var(--fill-color);\n",
              "      border-right-color: var(--fill-color);\n",
              "    }\n",
              "    40% {\n",
              "      border-color: transparent;\n",
              "      border-right-color: var(--fill-color);\n",
              "      border-top-color: var(--fill-color);\n",
              "    }\n",
              "    60% {\n",
              "      border-color: transparent;\n",
              "      border-right-color: var(--fill-color);\n",
              "    }\n",
              "    80% {\n",
              "      border-color: transparent;\n",
              "      border-right-color: var(--fill-color);\n",
              "      border-bottom-color: var(--fill-color);\n",
              "    }\n",
              "    90% {\n",
              "      border-color: transparent;\n",
              "      border-bottom-color: var(--fill-color);\n",
              "    }\n",
              "  }\n",
              "</style>\n",
              "\n",
              "  <script>\n",
              "    async function quickchart(key) {\n",
              "      const quickchartButtonEl =\n",
              "        document.querySelector('#' + key + ' button');\n",
              "      quickchartButtonEl.disabled = true;  // To prevent multiple clicks.\n",
              "      quickchartButtonEl.classList.add('colab-df-spinner');\n",
              "      try {\n",
              "        const charts = await google.colab.kernel.invokeFunction(\n",
              "            'suggestCharts', [key], {});\n",
              "      } catch (error) {\n",
              "        console.error('Error during call to suggestCharts:', error);\n",
              "      }\n",
              "      quickchartButtonEl.classList.remove('colab-df-spinner');\n",
              "      quickchartButtonEl.classList.add('colab-df-quickchart-complete');\n",
              "    }\n",
              "    (() => {\n",
              "      let quickchartButtonEl =\n",
              "        document.querySelector('#df-11eb5c38-7159-4074-8c71-8ddd213c87fb button');\n",
              "      quickchartButtonEl.style.display =\n",
              "        google.colab.kernel.accessAllowed ? 'block' : 'none';\n",
              "    })();\n",
              "  </script>\n",
              "</div>\n",
              "\n",
              "    </div>\n",
              "  </div>\n"
            ],
            "application/vnd.google.colaboratory.intrinsic+json": {
              "type": "dataframe",
              "variable_name": "data_frame",
              "summary": "{\n  \"name\": \"data_frame\",\n  \"rows\": 1000,\n  \"fields\": [\n    {\n      \"column\": \"X1\",\n      \"properties\": {\n        \"dtype\": \"number\",\n        \"std\": 0.8670361882596087,\n        \"min\": -1.0,\n        \"max\": 2.0,\n        \"num_unique_values\": 1000,\n        \"samples\": [\n          0.4981836681233165,\n          0.6879358381940102,\n          1.2155004589628617\n        ],\n        \"semantic_type\": \"\",\n        \"description\": \"\"\n      }\n    },\n    {\n      \"column\": \"X2\",\n      \"properties\": {\n        \"dtype\": \"number\",\n        \"std\": 0.49403628888994966,\n        \"min\": -0.4999950454033061,\n        \"max\": 0.9999950454033061,\n        \"num_unique_values\": 916,\n        \"samples\": [\n          0.6287494019594928,\n          0.1505243501340137,\n          0.1753701695422144\n        ],\n        \"semantic_type\": \"\",\n        \"description\": \"\"\n      }\n    },\n    {\n      \"column\": \"Y\",\n      \"properties\": {\n        \"dtype\": \"number\",\n        \"std\": 0,\n        \"min\": 0,\n        \"max\": 1,\n        \"num_unique_values\": 2,\n        \"samples\": [\n          0,\n          1\n        ],\n        \"semantic_type\": \"\",\n        \"description\": \"\"\n      }\n    }\n  ]\n}"
            }
          },
          "metadata": {},
          "execution_count": 186
        }
      ]
    },
    {
      "cell_type": "code",
      "source": [
        "import matplotlib.pyplot as plt\n",
        "\n",
        "plt.scatter(x= data_frame.X1,\n",
        "            y= data_frame.X2,\n",
        "            c = data_frame.Y,\n",
        "            cmap = plt.cm.RdYlBu)\n",
        "\n",
        "plt.show();"
      ],
      "metadata": {
        "colab": {
          "base_uri": "https://localhost:8080/",
          "height": 430
        },
        "id": "Ivu6DCqGB_Bx",
        "outputId": "1c8cf43d-dd14-4c5b-b3a5-8fe9a5d4fa50"
      },
      "execution_count": 187,
      "outputs": [
        {
          "output_type": "display_data",
          "data": {
            "text/plain": [
              "<Figure size 640x480 with 1 Axes>"
            ],
            "image/png": "[encoded data removed]"
          },
          "metadata": {}
        }
      ]
    },
    {
      "cell_type": "code",
      "source": [
        "x.shape, y.shape"
      ],
      "metadata": {
        "colab": {
          "base_uri": "https://localhost:8080/"
        },
        "id": "PW4a9CbXIF1J",
        "outputId": "1ddc7aee-0877-4fc4-a286-ddea3e3c2d07"
      },
      "execution_count": 188,
      "outputs": [
        {
          "output_type": "execute_result",
          "data": {
            "text/plain": [
              "((1000, 2), (1000,))"
            ]
          },
          "metadata": {},
          "execution_count": 188
        }
      ]
    },
    {
      "cell_type": "code",
      "source": [
        "x.dtype, y.dtype"
      ],
      "metadata": {
        "colab": {
          "base_uri": "https://localhost:8080/"
        },
        "id": "Ee7sglspX5sn",
        "outputId": "c1322668-d51c-4c56-ab2a-b370f0f592c8"
      },
      "execution_count": 189,
      "outputs": [
        {
          "output_type": "execute_result",
          "data": {
            "text/plain": [
              "(dtype('float64'), dtype('int64'))"
            ]
          },
          "metadata": {},
          "execution_count": 189
        }
      ]
    },
    {
      "cell_type": "code",
      "source": [
        "x = torch.from_numpy(x).type(torch.float32)\n",
        "y = torch.from_numpy(y).type(torch.float32)"
      ],
      "metadata": {
        "id": "MVWKV13AJJBg"
      },
      "execution_count": 190,
      "outputs": []
    },
    {
      "cell_type": "code",
      "source": [
        "x.dtype, y.dtype"
      ],
      "metadata": {
        "id": "dmta_tyNJcf5",
        "colab": {
          "base_uri": "https://localhost:8080/"
        },
        "outputId": "e72e213f-fc1c-4e1b-a766-386202d4543e"
      },
      "execution_count": 191,
      "outputs": [
        {
          "output_type": "execute_result",
          "data": {
            "text/plain": [
              "(torch.float32, torch.float32)"
            ]
          },
          "metadata": {},
          "execution_count": 191
        }
      ]
    },
    {
      "cell_type": "code",
      "source": [
        "from sklearn.model_selection import train_test_split\n",
        "\n",
        "x_train, x_test, y_train, y_test = train_test_split(x, y, test_size = 0.2)\n",
        "x_train.shape, x_test.shape, y_train.shape, y_test.shape"
      ],
      "metadata": {
        "colab": {
          "base_uri": "https://localhost:8080/"
        },
        "id": "tf4wFsKpJ3uR",
        "outputId": "9bcc130f-f5e2-41bb-cbb0-d16a0f5f5567"
      },
      "execution_count": 192,
      "outputs": [
        {
          "output_type": "execute_result",
          "data": {
            "text/plain": [
              "(torch.Size([800, 2]),\n",
              " torch.Size([200, 2]),\n",
              " torch.Size([800]),\n",
              " torch.Size([200]))"
            ]
          },
          "metadata": {},
          "execution_count": 192
        }
      ]
    },
    {
      "cell_type": "code",
      "source": [
        "len(y_test.unique())"
      ],
      "metadata": {
        "colab": {
          "base_uri": "https://localhost:8080/"
        },
        "id": "8Hf4xLkfLGm5",
        "outputId": "ed0e7b40-5d7d-49f1-97b1-ae9292581bed"
      },
      "execution_count": 193,
      "outputs": [
        {
          "output_type": "execute_result",
          "data": {
            "text/plain": [
              "2"
            ]
          },
          "metadata": {},
          "execution_count": 193
        }
      ]
    },
    {
      "cell_type": "markdown",
      "source": [
        "## Excercise 2\n",
        "\n",
        "* Build a model by subclassing nn.Module that incorporates non-linear activation functions and is capable of fitting the data you created in 1.\n",
        "* Feel free to use any combination of PyTorch layers (linear and non-linear) you want."
      ],
      "metadata": {
        "id": "hMi0w00uME4I"
      }
    },
    {
      "cell_type": "code",
      "source": [
        "import torch\n",
        "\n",
        "device = 'cuda' if torch.cuda.is_available() else 'cpu'\n",
        "device"
      ],
      "metadata": {
        "colab": {
          "base_uri": "https://localhost:8080/",
          "height": 35
        },
        "id": "xR-zvd4DMQ4o",
        "outputId": "518b999b-c471-40ab-a770-a0bc9f61b054"
      },
      "execution_count": 194,
      "outputs": [
        {
          "output_type": "execute_result",
          "data": {
            "text/plain": [
              "'cpu'"
            ],
            "application/vnd.google.colaboratory.intrinsic+json": {
              "type": "string"
            }
          },
          "metadata": {},
          "execution_count": 194
        }
      ]
    },
    {
      "cell_type": "code",
      "source": [
        "from torch import nn\n",
        "\n",
        "class MoonModel(nn.Module):\n",
        "  def __init__(self):\n",
        "    super().__init__()\n",
        "    # self.flatten_layer = nn.Flatten()\n",
        "    self.layer_1 = nn.Linear(in_features = x_train.shape[1], out_features = 10)\n",
        "    self.layer_2 = nn.Linear(in_features = 10, out_features = len(y.unique()))\n",
        "    self.relu = nn.ReLU()\n",
        "\n",
        "  def forward(self, x):\n",
        "    return self.layer_2(self.relu(self.layer_1(x)))"
      ],
      "metadata": {
        "id": "bDA0wef4KOuB"
      },
      "execution_count": 195,
      "outputs": []
    },
    {
      "cell_type": "code",
      "source": [
        "model = MoonModel()\n",
        "model.state_dict()"
      ],
      "metadata": {
        "colab": {
          "base_uri": "https://localhost:8080/"
        },
        "id": "HKM-uhZaLrdg",
        "outputId": "eb46d4a8-ed81-4db0-b185-92d80e1e3cec"
      },
      "execution_count": 196,
      "outputs": [
        {
          "output_type": "execute_result",
          "data": {
            "text/plain": [
              "OrderedDict([('layer_1.weight',\n",
              "              tensor([[ 0.5406,  0.5869],\n",
              "                      [-0.1657,  0.6496],\n",
              "                      [-0.1549,  0.1427],\n",
              "                      [-0.3443,  0.4153],\n",
              "                      [ 0.6233, -0.5188],\n",
              "                      [ 0.6146,  0.1323],\n",
              "                      [ 0.5224,  0.0958],\n",
              "                      [ 0.3410, -0.0998],\n",
              "                      [ 0.5451,  0.1045],\n",
              "                      [-0.3301,  0.1802]])),\n",
              "             ('layer_1.bias',\n",
              "              tensor([-0.3258, -0.0829, -0.2872,  0.4691, -0.5582, -0.3260, -0.1997, -0.4252,\n",
              "                       0.0667, -0.6984])),\n",
              "             ('layer_2.weight',\n",
              "              tensor([[ 0.2856, -0.2686,  0.2441,  0.0526, -0.1027,  0.1954,  0.0493,  0.2555,\n",
              "                        0.0346, -0.0997],\n",
              "                      [ 0.0850, -0.0858,  0.1331,  0.2823,  0.1828, -0.1382,  0.1825,  0.0566,\n",
              "                        0.1606, -0.1927]])),\n",
              "             ('layer_2.bias', tensor([-0.3130, -0.1222]))])"
            ]
          },
          "metadata": {},
          "execution_count": 196
        }
      ]
    },
    {
      "cell_type": "code",
      "source": [
        "list(model.parameters())"
      ],
      "metadata": {
        "colab": {
          "base_uri": "https://localhost:8080/"
        },
        "id": "TeemqiTILzxg",
        "outputId": "c74f3b27-dcd7-4977-fac4-858cc8933156"
      },
      "execution_count": 197,
      "outputs": [
        {
          "output_type": "execute_result",
          "data": {
            "text/plain": [
              "[Parameter containing:\n",
              " tensor([[ 0.5406,  0.5869],\n",
              "         [-0.1657,  0.6496],\n",
              "         [-0.1549,  0.1427],\n",
              "         [-0.3443,  0.4153],\n",
              "         [ 0.6233, -0.5188],\n",
              "         [ 0.6146,  0.1323],\n",
              "         [ 0.5224,  0.0958],\n",
              "         [ 0.3410, -0.0998],\n",
              "         [ 0.5451,  0.1045],\n",
              "         [-0.3301,  0.1802]], requires_grad=True),\n",
              " Parameter containing:\n",
              " tensor([-0.3258, -0.0829, -0.2872,  0.4691, -0.5582, -0.3260, -0.1997, -0.4252,\n",
              "          0.0667, -0.6984], requires_grad=True),\n",
              " Parameter containing:\n",
              " tensor([[ 0.2856, -0.2686,  0.2441,  0.0526, -0.1027,  0.1954,  0.0493,  0.2555,\n",
              "           0.0346, -0.0997],\n",
              "         [ 0.0850, -0.0858,  0.1331,  0.2823,  0.1828, -0.1382,  0.1825,  0.0566,\n",
              "           0.1606, -0.1927]], requires_grad=True),\n",
              " Parameter containing:\n",
              " tensor([-0.3130, -0.1222], requires_grad=True)]"
            ]
          },
          "metadata": {},
          "execution_count": 197
        }
      ]
    },
    {
      "cell_type": "markdown",
      "source": [
        "## Excercise 3\n",
        "\n",
        "* Setup a binary classification compatible loss function and optimizer to use when training the model."
      ],
      "metadata": {
        "id": "z6IlAlfPMenQ"
      }
    },
    {
      "cell_type": "code",
      "source": [
        "loss_fn = nn.CrossEntropyLoss()\n",
        "optimizer = torch.optim.SGD(params = model.parameters(),\n",
        "                            lr = 0.01)"
      ],
      "metadata": {
        "id": "a31ijMBbQ3yQ"
      },
      "execution_count": 198,
      "outputs": []
    },
    {
      "cell_type": "markdown",
      "source": [
        "## Excercise 4\n",
        "\n",
        "* Create a training and testing loop to fit the model you created in excercise 2 to the data you created in 1.\n",
        "* To measure model accuracy, you can create your own accuracy function or use the accuracy function in TorchMetrics.\n",
        "* Train the model for long enough for it to reach over 96% accuracy.\n",
        "* The training loop should output progress every 10 epochs of the model's training and test set loss and accuracy."
      ],
      "metadata": {
        "id": "_wHdu47aRZG_"
      }
    },
    {
      "cell_type": "code",
      "source": [
        "x_train.dtype, y_train.dtype"
      ],
      "metadata": {
        "colab": {
          "base_uri": "https://localhost:8080/"
        },
        "id": "feUJ6hcbTdNX",
        "outputId": "aaf49995-5e63-4e60-dd5e-1171feee7227"
      },
      "execution_count": 199,
      "outputs": [
        {
          "output_type": "execute_result",
          "data": {
            "text/plain": [
              "(torch.float32, torch.float32)"
            ]
          },
          "metadata": {},
          "execution_count": 199
        }
      ]
    },
    {
      "cell_type": "code",
      "source": [
        "def accuracy(y_true, y_pred):\n",
        "  y_pred_class = torch.argmax(y_pred, dim=1)\n",
        "  correct = torch.eq(y_true, y_pred_class).sum().item() # y_train == torch.argmax(y_pred, dim = 1)\n",
        "  acc = (correct / len(y_pred)) * 100\n",
        "  return acc"
      ],
      "metadata": {
        "id": "m5Ldmz6ZTmZu"
      },
      "execution_count": 227,
      "outputs": []
    },
    {
      "cell_type": "code",
      "source": [
        "if device == 'cuda':\n",
        "  torch.cuda.manual_seed(42)\n",
        "\n",
        "else:\n",
        "  torch.manual_seed(42)\n",
        "\n",
        "\n",
        "epochs = 10000\n",
        "\n",
        "x_train, y_train = x_train.to(device), y_train.to(device)\n",
        "x_test, y_test = x_test.to(device), y_test.to(device)\n",
        "model = model.to(device)\n",
        "\n",
        "for epoch in range(epochs):\n",
        "  # Training...\n",
        "\n",
        "  model.train()\n",
        "\n",
        "  y_pred = model(x_train.to(device))\n",
        "  train_loss = loss_fn(y_pred, y_train.long())\n",
        "  train_acc = accuracy(y_true = y_train, y_pred = y_pred)\n",
        "\n",
        "  optimizer.zero_grad()\n",
        "  train_loss.backward()\n",
        "  optimizer.step()\n",
        "\n",
        "  # Testing...\n",
        "\n",
        "  model.eval()\n",
        "\n",
        "  test_pred = model(x_test.to(device))\n",
        "  test_loss = loss_fn(test_pred, y_test.long())\n",
        "  test_acc = accuracy(y_true = y_test, y_pred = test_pred)\n",
        "\n",
        "  if epoch % 1000 == 0:\n",
        "    print(f'Epoch : {epoch} | Train Loss : {train_loss:.4f} | Train Accuracy : {train_acc:.4f} | Test Loss : {test_loss:.4f} | Test Accuracy : {test_acc:.4f}')"
      ],
      "metadata": {
        "colab": {
          "base_uri": "https://localhost:8080/"
        },
        "id": "I9wPDACDRz_3",
        "outputId": "d0aba3fd-9e36-4bde-e94b-399c4ca5f2f4"
      },
      "execution_count": 228,
      "outputs": [
        {
          "output_type": "stream",
          "name": "stdout",
          "text": [
            "Epoch : 0 | Train Loss : 1.1112 | Train Accuracy : 33.7500 | Test Loss : 1.1298 | Test Accuracy : 31.6667\n",
            "Epoch : 1000 | Train Loss : 0.0235 | Train Accuracy : 99.1667 | Test Loss : 0.0523 | Test Accuracy : 98.3333\n",
            "Epoch : 2000 | Train Loss : 0.0131 | Train Accuracy : 99.5833 | Test Loss : 0.0717 | Test Accuracy : 98.3333\n",
            "Epoch : 3000 | Train Loss : 0.0098 | Train Accuracy : 99.5833 | Test Loss : 0.1163 | Test Accuracy : 98.3333\n",
            "Epoch : 4000 | Train Loss : 0.0080 | Train Accuracy : 99.5833 | Test Loss : 0.1834 | Test Accuracy : 98.3333\n",
            "Epoch : 5000 | Train Loss : 0.0068 | Train Accuracy : 99.5833 | Test Loss : 0.3052 | Test Accuracy : 96.6667\n",
            "Epoch : 6000 | Train Loss : 0.0063 | Train Accuracy : 99.5833 | Test Loss : 0.4529 | Test Accuracy : 96.6667\n",
            "Epoch : 7000 | Train Loss : 0.0063 | Train Accuracy : 99.5833 | Test Loss : 0.3170 | Test Accuracy : 98.3333\n",
            "Epoch : 8000 | Train Loss : 0.0060 | Train Accuracy : 99.5833 | Test Loss : 0.3002 | Test Accuracy : 98.3333\n",
            "Epoch : 9000 | Train Loss : 0.0059 | Train Accuracy : 99.5833 | Test Loss : 0.2909 | Test Accuracy : 98.3333\n"
          ]
        }
      ]
    },
    {
      "cell_type": "code",
      "source": [
        "import torch\n",
        "\n",
        "with torch.inference_mode():\n",
        "  Y_pred = model(x_test.to(device))\n",
        "\n",
        "Y_pred_class = torch.argmax(Y_pred, dim = 1)\n",
        "Y_pred_class[:10] == y_test[:10]"
      ],
      "metadata": {
        "colab": {
          "base_uri": "https://localhost:8080/"
        },
        "id": "A3m7r5oambS-",
        "outputId": "83491939-c0bd-4787-d01d-f04b766bb273"
      },
      "execution_count": 203,
      "outputs": [
        {
          "output_type": "execute_result",
          "data": {
            "text/plain": [
              "tensor([True, True, True, True, True, True, True, True, True, True])"
            ]
          },
          "metadata": {},
          "execution_count": 203
        }
      ]
    },
    {
      "cell_type": "markdown",
      "source": [
        "## Excercise 5\n",
        "\n",
        "* Make predictions with your trained model and plot them using the plot_decision_boundary() function created in this notebook."
      ],
      "metadata": {
        "id": "BoXMOo0dVQwv"
      }
    },
    {
      "cell_type": "code",
      "source": [
        "import numpy as np\n",
        "import matplotlib.pyplot as plt\n",
        "import torch\n",
        "import torch.nn as nn\n",
        "\n",
        "def plot_decision(model: nn.Module, X: torch.Tensor, y: torch.Tensor):\n",
        "    model.to(device)\n",
        "    X, y = X.to(device), y.to(device)\n",
        "\n",
        "    # Convert tensors to numpy for plotting\n",
        "    X_np = X.cpu().detach().numpy() # detach() remove gradient\n",
        "    y_np = y.cpu().detach().numpy() # numpy() convert tensor into numpy for better plotting.\n",
        "\n",
        "    # Generate a mesh grid for decision boundary\n",
        "    x_min, x_max = X_np[:, 0].min() - 1, X_np[:, 0].max() + 1\n",
        "    y_min, y_max = X_np[:, 1].min() - 1, X_np[:, 1].max() + 1\n",
        "    xx, yy = np.meshgrid(np.linspace(x_min, x_max, 100),  # np.linspace() generates 100 evenly spaced points between min-1 and max+1 for both features.\n",
        "                         np.linspace(y_min, y_max, 100))  # np.meshgrid() creates a 2D grid of points.\n",
        "\n",
        "    # Convert grid to tensor and predict\n",
        "    grid = torch.tensor(np.c_[xx.ravel(), yy.ravel()], dtype=torch.float32).to(device) # ravel() flatten the mes_grid and [xx.ravel(), yy.ravel()] stack them into points.\n",
        "    with torch.no_grad():\n",
        "        pred = model(grid).cpu().numpy()\n",
        "\n",
        "    # Reshape predictions\n",
        "    if pred.shape[1] > 1:\n",
        "        pred = np.argmax(pred, axis=1)  # Multiclass case\n",
        "    else:\n",
        "        pred = (pred > 0.5).astype(int)  # Binary classification\n",
        "\n",
        "    pred = pred.reshape(xx.shape)\n",
        "\n",
        "    # Plot decision boundary\n",
        "    plt.contourf(xx, yy, pred, alpha=0.3, cmap=plt.cm.coolwarm)\n",
        "\n",
        "    # Plot the actual data points\n",
        "    plt.scatter(X_np[:, 0], X_np[:, 1], c=y_np, cmap=plt.cm.coolwarm, edgecolors='k')"
      ],
      "metadata": {
        "id": "N2qYlzD2rVm3"
      },
      "execution_count": 204,
      "outputs": []
    },
    {
      "cell_type": "code",
      "source": [
        "import matplotlib.pyplot as plt\n",
        "\n",
        "plt.figure(figsize = (15, 7))\n",
        "plt.title('Training')\n",
        "plt.subplot(1, 2, 1)\n",
        "plot_decision(model, x_train, y_train)\n",
        "plt.axis(False)\n",
        "\n",
        "plt.subplot(1, 2, 2)\n",
        "plt.title('Testing')\n",
        "plot_decision(model, x_test, y_test)\n",
        "plt.axis(False)\n",
        "plt.show();\n"
      ],
      "metadata": {
        "colab": {
          "base_uri": "https://localhost:8080/",
          "height": 622
        },
        "id": "05obhI5qspTv",
        "outputId": "2c356482-a34a-450c-aecc-f8f2867d5d8a"
      },
      "execution_count": 205,
      "outputs": [
        {
          "output_type": "display_data",
          "data": {
            "text/plain": [
              "<Figure size 1500x700 with 3 Axes>"
            ],
            "image/png": "[encoded data removed]"
          },
          "metadata": {}
        }
      ]
    },
    {
      "cell_type": "markdown",
      "source": [
        "## Exercise 6\n",
        "\n",
        "* Replicate the Tanh (hyperbolic tangent) activation function in pure PyTorch."
      ],
      "metadata": {
        "id": "78SOMoQrsuM2"
      }
    },
    {
      "cell_type": "code",
      "source": [
        "A = torch.arange(0, 1, 0.02)\n",
        "A"
      ],
      "metadata": {
        "colab": {
          "base_uri": "https://localhost:8080/"
        },
        "id": "ltmFZNlH-Kbe",
        "outputId": "1739f3ad-55b1-4d3d-e572-1effb0c4c776"
      },
      "execution_count": 206,
      "outputs": [
        {
          "output_type": "execute_result",
          "data": {
            "text/plain": [
              "tensor([0.0000, 0.0200, 0.0400, 0.0600, 0.0800, 0.1000, 0.1200, 0.1400, 0.1600,\n",
              "        0.1800, 0.2000, 0.2200, 0.2400, 0.2600, 0.2800, 0.3000, 0.3200, 0.3400,\n",
              "        0.3600, 0.3800, 0.4000, 0.4200, 0.4400, 0.4600, 0.4800, 0.5000, 0.5200,\n",
              "        0.5400, 0.5600, 0.5800, 0.6000, 0.6200, 0.6400, 0.6600, 0.6800, 0.7000,\n",
              "        0.7200, 0.7400, 0.7600, 0.7800, 0.8000, 0.8200, 0.8400, 0.8600, 0.8800,\n",
              "        0.9000, 0.9200, 0.9400, 0.9600, 0.9800])"
            ]
          },
          "metadata": {},
          "execution_count": 206
        }
      ]
    },
    {
      "cell_type": "code",
      "source": [
        "import matplotlib.pyplot as plt\n",
        "\n",
        "plt.plot(A);"
      ],
      "metadata": {
        "colab": {
          "base_uri": "https://localhost:8080/",
          "height": 430
        },
        "id": "SRWRkRks-RPW",
        "outputId": "4017ecb1-37a9-4039-a745-7e0693738101"
      },
      "execution_count": 207,
      "outputs": [
        {
          "output_type": "display_data",
          "data": {
            "text/plain": [
              "<Figure size 640x480 with 1 Axes>"
            ],
            "image/png": "[encoded data removed]"
          },
          "metadata": {}
        }
      ]
    },
    {
      "cell_type": "code",
      "source": [
        "def tanh(x):\n",
        "  return (torch.exp(x) - torch.exp(-x)) / (torch.exp(x) + torch.exp(-x))\n",
        "\n",
        "plt.plot(tanh(A));"
      ],
      "metadata": {
        "colab": {
          "base_uri": "https://localhost:8080/",
          "height": 430
        },
        "id": "5eTDyjSaAooX",
        "outputId": "58dfcd18-c16a-4669-970a-c634344664a9"
      },
      "execution_count": 208,
      "outputs": [
        {
          "output_type": "display_data",
          "data": {
            "text/plain": [
              "<Figure size 640x480 with 1 Axes>"
            ],
            "image/png": "[encoded data removed]"
          },
          "metadata": {}
        }
      ]
    },
    {
      "cell_type": "code",
      "source": [
        "plt.plot(torch.tanh(A));"
      ],
      "metadata": {
        "colab": {
          "base_uri": "https://localhost:8080/",
          "height": 430
        },
        "id": "zfmuN9n-AyM_",
        "outputId": "c18550cd-c57d-499a-f38e-d55e3034e0ee"
      },
      "execution_count": 209,
      "outputs": [
        {
          "output_type": "display_data",
          "data": {
            "text/plain": [
              "<Figure size 640x480 with 1 Axes>"
            ],
            "image/png": "[encoded data removed]"
          },
          "metadata": {}
        }
      ]
    },
    {
      "cell_type": "markdown",
      "source": [
        "## Excercise 7\n",
        "\n",
        "* Create a multi-class dataset using the spirals data creation function from CS231n (see below for the code).\n",
        "* Construct a model capable of fitting the data (you may need a combination of linear and non-linear layers).\n",
        "* Build a loss function and optimizer capable of handling multi-class data (optional extension: use the Adam optimizer instead of SGD, you may have to experiment with different values of the learning rate to get it working).\n",
        "* Make a training and testing loop for the multi-class data and train a model on it to reach over 95% testing accuracy (you can use any accuracy measuring function here that you like).\n",
        "* Plot the decision boundaries on the spirals dataset from your model predictions, the plot_decision_boundary() function should work for this dataset too."
      ],
      "metadata": {
        "id": "cn30Gk8vA_D-"
      }
    },
    {
      "cell_type": "code",
      "source": [
        "import numpy as np\n",
        "N = 100 # number of points per class\n",
        "D = 2 # dimensionality\n",
        "K = 3 # number of classes\n",
        "X = np.zeros((N*K,D)) # data matrix (each row = single example)\n",
        "y = np.zeros(N*K, dtype='uint8') # class labels\n",
        "for j in range(K):\n",
        "  ix = range(N*j,N*(j+1))\n",
        "  r = np.linspace(0.0,1,N) # radius\n",
        "  t = np.linspace(j*4,(j+1)*4,N) + np.random.randn(N)*0.2 # theta\n",
        "  X[ix] = np.c_[r*np.sin(t), r*np.cos(t)]\n",
        "  y[ix] = j\n",
        "# lets visualize the data\n",
        "plt.scatter(X[:, 0], X[:, 1], c=y, s=40, cmap=plt.cm.Spectral)\n",
        "plt.show()"
      ],
      "metadata": {
        "colab": {
          "base_uri": "https://localhost:8080/",
          "height": 430
        },
        "id": "NA7HQUuQBV0G",
        "outputId": "1567de9d-8e7f-4fcc-d535-d98c2c78778c"
      },
      "execution_count": 210,
      "outputs": [
        {
          "output_type": "display_data",
          "data": {
            "text/plain": [
              "<Figure size 640x480 with 1 Axes>"
            ],
            "image/png": "[encoded data removed]"
          },
          "metadata": {}
        }
      ]
    },
    {
      "cell_type": "code",
      "source": [
        "X.dtype, type(X)"
      ],
      "metadata": {
        "colab": {
          "base_uri": "https://localhost:8080/"
        },
        "id": "TwpBWVPeEft-",
        "outputId": "9a09ae33-d43e-4861-e08a-a8f9829daf24"
      },
      "execution_count": 211,
      "outputs": [
        {
          "output_type": "execute_result",
          "data": {
            "text/plain": [
              "(dtype('float64'), numpy.ndarray)"
            ]
          },
          "metadata": {},
          "execution_count": 211
        }
      ]
    },
    {
      "cell_type": "code",
      "source": [
        "X = torch.from_numpy(X).type(torch.float32)\n",
        "y = torch.from_numpy(y).type(torch.float32)\n",
        "\n",
        "X.dtype, y.dtype"
      ],
      "metadata": {
        "colab": {
          "base_uri": "https://localhost:8080/"
        },
        "id": "6VuTpVO_FBsG",
        "outputId": "3a1ded97-9924-4ba1-84ac-c07fa879db29"
      },
      "execution_count": 212,
      "outputs": [
        {
          "output_type": "execute_result",
          "data": {
            "text/plain": [
              "(torch.float32, torch.float32)"
            ]
          },
          "metadata": {},
          "execution_count": 212
        }
      ]
    },
    {
      "cell_type": "code",
      "source": [
        "X.shape, y.shape"
      ],
      "metadata": {
        "colab": {
          "base_uri": "https://localhost:8080/"
        },
        "id": "XXyVltdhFRj2",
        "outputId": "1cb6d8eb-3b7c-4d5b-eaf1-63786d131c94"
      },
      "execution_count": 213,
      "outputs": [
        {
          "output_type": "execute_result",
          "data": {
            "text/plain": [
              "(torch.Size([300, 2]), torch.Size([300]))"
            ]
          },
          "metadata": {},
          "execution_count": 213
        }
      ]
    },
    {
      "cell_type": "code",
      "source": [
        "from sklearn.model_selection import train_test_split\n",
        "\n",
        "x_train, x_test, y_train, y_test = train_test_split(X, y, test_size = 0.2)\n",
        "x_train.shape, x_test.shape, y_train.shape, y_test.shape"
      ],
      "metadata": {
        "colab": {
          "base_uri": "https://localhost:8080/"
        },
        "id": "8tK_fONaF24f",
        "outputId": "25484ccb-11d0-41ed-bcee-e0f32c4c3e99"
      },
      "execution_count": 214,
      "outputs": [
        {
          "output_type": "execute_result",
          "data": {
            "text/plain": [
              "(torch.Size([240, 2]),\n",
              " torch.Size([60, 2]),\n",
              " torch.Size([240]),\n",
              " torch.Size([60]))"
            ]
          },
          "metadata": {},
          "execution_count": 214
        }
      ]
    },
    {
      "cell_type": "code",
      "source": [
        "x_train.shape[1], len(y_train.unique())"
      ],
      "metadata": {
        "colab": {
          "base_uri": "https://localhost:8080/"
        },
        "id": "R3gNwY5EGnpP",
        "outputId": "08c13206-f5f2-45bb-a439-748beeed2468"
      },
      "execution_count": 215,
      "outputs": [
        {
          "output_type": "execute_result",
          "data": {
            "text/plain": [
              "(2, 3)"
            ]
          },
          "metadata": {},
          "execution_count": 215
        }
      ]
    },
    {
      "cell_type": "code",
      "source": [
        "from torch import nn\n",
        "\n",
        "class CS2Model(nn.Module):\n",
        "  def __init__(self):\n",
        "    super().__init__()\n",
        "\n",
        "    self.linear_stack = nn.Sequential(\n",
        "        nn.Linear(in_features = x_train.shape[1], out_features = 10),\n",
        "        nn.ReLU(),\n",
        "        nn.Linear(in_features = 10, out_features = 10),\n",
        "        nn.ReLU(),\n",
        "        nn.Linear(in_features = 10, out_features = len(y_train.unique()))\n",
        "    )\n",
        "\n",
        "  def forward(self, x):\n",
        "    return self.linear_stack(x)"
      ],
      "metadata": {
        "id": "syipdNZ7FVfH"
      },
      "execution_count": 216,
      "outputs": []
    },
    {
      "cell_type": "code",
      "source": [
        "model = CS2Model()\n",
        "model.state_dict()"
      ],
      "metadata": {
        "colab": {
          "base_uri": "https://localhost:8080/"
        },
        "id": "eKaTcIn2HBFP",
        "outputId": "0d12bf35-03e1-4dea-fad0-3fc59c0553ec"
      },
      "execution_count": 217,
      "outputs": [
        {
          "output_type": "execute_result",
          "data": {
            "text/plain": [
              "OrderedDict([('linear_stack.0.weight',\n",
              "              tensor([[ 0.5406,  0.5869],\n",
              "                      [-0.1657,  0.6496],\n",
              "                      [-0.1549,  0.1427],\n",
              "                      [-0.3443,  0.4153],\n",
              "                      [ 0.6233, -0.5188],\n",
              "                      [ 0.6146,  0.1323],\n",
              "                      [ 0.5224,  0.0958],\n",
              "                      [ 0.3410, -0.0998],\n",
              "                      [ 0.5451,  0.1045],\n",
              "                      [-0.3301,  0.1802]])),\n",
              "             ('linear_stack.0.bias',\n",
              "              tensor([-0.3258, -0.0829, -0.2872,  0.4691, -0.5582, -0.3260, -0.1997, -0.4252,\n",
              "                       0.0667, -0.6984])),\n",
              "             ('linear_stack.2.weight',\n",
              "              tensor([[ 0.2856, -0.2686,  0.2441,  0.0526, -0.1027,  0.1954,  0.0493,  0.2555,\n",
              "                        0.0346, -0.0997],\n",
              "                      [ 0.0850, -0.0858,  0.1331,  0.2823,  0.1828, -0.1382,  0.1825,  0.0566,\n",
              "                        0.1606, -0.1927],\n",
              "                      [-0.3130, -0.1222, -0.2426,  0.2595,  0.0911,  0.1310,  0.1000, -0.0055,\n",
              "                        0.2475, -0.2247],\n",
              "                      [ 0.0199, -0.2158,  0.0975, -0.1089,  0.0969, -0.0659,  0.2623, -0.1874,\n",
              "                       -0.1886, -0.1886],\n",
              "                      [ 0.2844,  0.1054,  0.3043, -0.2610, -0.3137, -0.2474, -0.2127,  0.1281,\n",
              "                        0.1132,  0.2628],\n",
              "                      [-0.1633, -0.2156,  0.1678, -0.1278,  0.1919, -0.0750,  0.1809, -0.2457,\n",
              "                       -0.1596,  0.0964],\n",
              "                      [ 0.0669, -0.0806,  0.1885,  0.2150, -0.2293, -0.1688,  0.2896, -0.1067,\n",
              "                       -0.1121, -0.3060],\n",
              "                      [-0.1811,  0.0790, -0.0417, -0.2295,  0.0074, -0.2160, -0.2683, -0.1741,\n",
              "                       -0.2768, -0.2014],\n",
              "                      [ 0.3161,  0.0597,  0.0974, -0.2949, -0.2077, -0.1053,  0.0494, -0.2783,\n",
              "                       -0.1363, -0.1893],\n",
              "                      [ 0.0009, -0.1177, -0.0219, -0.2143, -0.2171, -0.1845, -0.1082, -0.2496,\n",
              "                        0.2651, -0.0628]])),\n",
              "             ('linear_stack.2.bias',\n",
              "              tensor([ 0.2721,  0.0985, -0.2678,  0.2188, -0.0870, -0.1212, -0.2625, -0.3144,\n",
              "                       0.0905, -0.0691])),\n",
              "             ('linear_stack.4.weight',\n",
              "              tensor([[ 0.1231, -0.2595,  0.2348, -0.2321, -0.0546,  0.0661,  0.1633,  0.2553,\n",
              "                        0.2881, -0.2507],\n",
              "                      [ 0.0796, -0.1360, -0.0347, -0.2367,  0.2880, -0.2321,  0.1690,  0.1111,\n",
              "                        0.1028, -0.1710],\n",
              "                      [ 0.2874,  0.0695,  0.0407, -0.2787,  0.1327, -0.0474, -0.1449,  0.2716,\n",
              "                        0.0705, -0.1750]])),\n",
              "             ('linear_stack.4.bias', tensor([-0.1601, -0.0151,  0.1766]))])"
            ]
          },
          "metadata": {},
          "execution_count": 217
        }
      ]
    },
    {
      "cell_type": "code",
      "source": [
        "list(model.parameters())"
      ],
      "metadata": {
        "colab": {
          "base_uri": "https://localhost:8080/"
        },
        "id": "uZucpCeAHFpO",
        "outputId": "8c04cc76-910f-433d-8b9f-2727d6f2ffeb"
      },
      "execution_count": 218,
      "outputs": [
        {
          "output_type": "execute_result",
          "data": {
            "text/plain": [
              "[Parameter containing:\n",
              " tensor([[ 0.5406,  0.5869],\n",
              "         [-0.1657,  0.6496],\n",
              "         [-0.1549,  0.1427],\n",
              "         [-0.3443,  0.4153],\n",
              "         [ 0.6233, -0.5188],\n",
              "         [ 0.6146,  0.1323],\n",
              "         [ 0.5224,  0.0958],\n",
              "         [ 0.3410, -0.0998],\n",
              "         [ 0.5451,  0.1045],\n",
              "         [-0.3301,  0.1802]], requires_grad=True),\n",
              " Parameter containing:\n",
              " tensor([-0.3258, -0.0829, -0.2872,  0.4691, -0.5582, -0.3260, -0.1997, -0.4252,\n",
              "          0.0667, -0.6984], requires_grad=True),\n",
              " Parameter containing:\n",
              " tensor([[ 0.2856, -0.2686,  0.2441,  0.0526, -0.1027,  0.1954,  0.0493,  0.2555,\n",
              "           0.0346, -0.0997],\n",
              "         [ 0.0850, -0.0858,  0.1331,  0.2823,  0.1828, -0.1382,  0.1825,  0.0566,\n",
              "           0.1606, -0.1927],\n",
              "         [-0.3130, -0.1222, -0.2426,  0.2595,  0.0911,  0.1310,  0.1000, -0.0055,\n",
              "           0.2475, -0.2247],\n",
              "         [ 0.0199, -0.2158,  0.0975, -0.1089,  0.0969, -0.0659,  0.2623, -0.1874,\n",
              "          -0.1886, -0.1886],\n",
              "         [ 0.2844,  0.1054,  0.3043, -0.2610, -0.3137, -0.2474, -0.2127,  0.1281,\n",
              "           0.1132,  0.2628],\n",
              "         [-0.1633, -0.2156,  0.1678, -0.1278,  0.1919, -0.0750,  0.1809, -0.2457,\n",
              "          -0.1596,  0.0964],\n",
              "         [ 0.0669, -0.0806,  0.1885,  0.2150, -0.2293, -0.1688,  0.2896, -0.1067,\n",
              "          -0.1121, -0.3060],\n",
              "         [-0.1811,  0.0790, -0.0417, -0.2295,  0.0074, -0.2160, -0.2683, -0.1741,\n",
              "          -0.2768, -0.2014],\n",
              "         [ 0.3161,  0.0597,  0.0974, -0.2949, -0.2077, -0.1053,  0.0494, -0.2783,\n",
              "          -0.1363, -0.1893],\n",
              "         [ 0.0009, -0.1177, -0.0219, -0.2143, -0.2171, -0.1845, -0.1082, -0.2496,\n",
              "           0.2651, -0.0628]], requires_grad=True),\n",
              " Parameter containing:\n",
              " tensor([ 0.2721,  0.0985, -0.2678,  0.2188, -0.0870, -0.1212, -0.2625, -0.3144,\n",
              "          0.0905, -0.0691], requires_grad=True),\n",
              " Parameter containing:\n",
              " tensor([[ 0.1231, -0.2595,  0.2348, -0.2321, -0.0546,  0.0661,  0.1633,  0.2553,\n",
              "           0.2881, -0.2507],\n",
              "         [ 0.0796, -0.1360, -0.0347, -0.2367,  0.2880, -0.2321,  0.1690,  0.1111,\n",
              "           0.1028, -0.1710],\n",
              "         [ 0.2874,  0.0695,  0.0407, -0.2787,  0.1327, -0.0474, -0.1449,  0.2716,\n",
              "           0.0705, -0.1750]], requires_grad=True),\n",
              " Parameter containing:\n",
              " tensor([-0.1601, -0.0151,  0.1766], requires_grad=True)]"
            ]
          },
          "metadata": {},
          "execution_count": 218
        }
      ]
    },
    {
      "cell_type": "code",
      "source": [
        "loss_fn = nn.CrossEntropyLoss()\n",
        "optimizer = torch.optim.Adam(params = model.parameters(),\n",
        "                       lr = 0.01)"
      ],
      "metadata": {
        "id": "i84WBqI2HKQe"
      },
      "execution_count": 236,
      "outputs": []
    },
    {
      "cell_type": "code",
      "source": [
        "def accuracy(y_true, y_pred):\n",
        "  correct_prediction = torch.eq(y_true, y_pred).sum().item()\n",
        "  acc = (correct_prediction / len(y_pred)) * 100\n",
        "  return acc"
      ],
      "metadata": {
        "id": "oIubxYUEKAAf"
      },
      "execution_count": 278,
      "outputs": []
    },
    {
      "cell_type": "code",
      "source": [
        "device = 'cuda' if torch.cuda.is_available() else 'cpu'\n",
        "device\n",
        "\n",
        "if device == 'cuda':\n",
        "  torch.cuda.manual_seed(42)\n",
        "\n",
        "else:\n",
        "  torch.manual_seed(42)\n",
        "\n",
        "epochs = 1000\n",
        "\n",
        "x_train, y_train = x_train.to(device), y_train.to(device)\n",
        "x_test, y_test = x_test.to(device), y_test.to(device)\n",
        "model = model.to(device)\n",
        "\n",
        "\n",
        "for epoch in range(epochs):\n",
        "  # Trainig...\n",
        "\n",
        "  model.train()\n",
        "\n",
        "  y_pred = model(x_train.to(device))\n",
        "  y_pred_class = torch.argmax(y_pred, dim = 1)\n",
        "  train_loss = loss_fn(y_pred, y_train.long())\n",
        "  train_acc = accuracy(y_pred_class, y_train)\n",
        "\n",
        "  optimizer.zero_grad()\n",
        "  train_loss.backward()\n",
        "  optimizer.step()\n",
        "\n",
        "  # Testing...\n",
        "\n",
        "  test_pred = model(x_test.to(device))\n",
        "  test_pred_class = torch.argmax(test_pred, dim = 1)\n",
        "  test_loss = loss_fn(test_pred, y_test.long())\n",
        "  test_acc = accuracy(test_pred_class, y_test)\n",
        "\n",
        "  if epoch % 100 == 0:\n",
        "    print(f'Epoch : {epoch} | Train Loss : {train_loss:.4f} | Train Accuracy : {train_acc:.4f} | Test Loss : {test_loss:.4f} Test Accuracy : {test_acc:.4f}')"
      ],
      "metadata": {
        "colab": {
          "base_uri": "https://localhost:8080/"
        },
        "id": "fZ3la-kaH12W",
        "outputId": "1369ace9-f59a-4ee8-d7db-3da9f24484b0"
      },
      "execution_count": 285,
      "outputs": [
        {
          "output_type": "stream",
          "name": "stdout",
          "text": [
            "Epoch : 0 | Train Loss : 0.0058 | Train Accuracy : 99.5833 | Test Loss : 1.0209 Test Accuracy : 95.0000\n",
            "Epoch : 100 | Train Loss : 0.0058 | Train Accuracy : 99.5833 | Test Loss : 0.9940 Test Accuracy : 95.0000\n",
            "Epoch : 200 | Train Loss : 0.0058 | Train Accuracy : 99.5833 | Test Loss : 0.9448 Test Accuracy : 95.0000\n",
            "Epoch : 300 | Train Loss : 0.0058 | Train Accuracy : 99.5833 | Test Loss : 0.9355 Test Accuracy : 95.0000\n",
            "Epoch : 400 | Train Loss : 0.0058 | Train Accuracy : 99.5833 | Test Loss : 0.9116 Test Accuracy : 95.0000\n",
            "Epoch : 500 | Train Loss : 0.0058 | Train Accuracy : 99.5833 | Test Loss : 0.9356 Test Accuracy : 95.0000\n",
            "Epoch : 600 | Train Loss : 0.0058 | Train Accuracy : 99.5833 | Test Loss : 0.9081 Test Accuracy : 95.0000\n",
            "Epoch : 700 | Train Loss : 0.0058 | Train Accuracy : 99.5833 | Test Loss : 0.8805 Test Accuracy : 96.6667\n",
            "Epoch : 800 | Train Loss : 0.0058 | Train Accuracy : 99.5833 | Test Loss : 0.8707 Test Accuracy : 96.6667\n",
            "Epoch : 900 | Train Loss : 0.0058 | Train Accuracy : 99.5833 | Test Loss : 0.8954 Test Accuracy : 96.6667\n"
          ]
        }
      ]
    },
    {
      "cell_type": "code",
      "source": [
        "import numpy as np\n",
        "import matplotlib.pyplot as plt\n",
        "import torch\n",
        "import torch.nn as nn\n",
        "\n",
        "def plot_decision(model: nn.Module, X: torch.Tensor, y: torch.Tensor):\n",
        "    model.to(device)\n",
        "    X, y = X.to(device), y.to(device)\n",
        "\n",
        "    # Convert tensors to numpy for plotting\n",
        "    X_np = X.cpu().detach().numpy() # detach() remove gradient\n",
        "    y_np = y.cpu().detach().numpy() # numpy() convert tensor into numpy for better plotting.\n",
        "\n",
        "    # Generate a mesh grid for decision boundary\n",
        "    x_min, x_max = X_np[:, 0].min() - 1, X_np[:, 0].max() + 1\n",
        "    y_min, y_max = X_np[:, 1].min() - 1, X_np[:, 1].max() + 1\n",
        "    xx, yy = np.meshgrid(np.linspace(x_min, x_max, 100),  # np.linspace() generates 100 evenly spaced points between min-1 and max+1 for both features.\n",
        "                         np.linspace(y_min, y_max, 100))  # np.meshgrid() creates a 2D grid of points.\n",
        "\n",
        "    # Convert grid to tensor and predict\n",
        "    grid = torch.tensor(np.c_[xx.ravel(), yy.ravel()], dtype=torch.float32).to(device) # ravel() flatten the mes_grid and [xx.ravel(), yy.ravel()] stack them into points.\n",
        "    with torch.no_grad():\n",
        "        pred = model(grid).cpu().numpy()\n",
        "\n",
        "    # Reshape predictions\n",
        "    if pred.shape[1] > 1:\n",
        "        pred = np.argmax(pred, axis=1)  # Multiclass case\n",
        "    else:\n",
        "        pred = (pred > 0.5).astype(int)  # Binary classification\n",
        "\n",
        "    pred = pred.reshape(xx.shape)\n",
        "\n",
        "    # Plot decision boundary\n",
        "    plt.contourf(xx, yy, pred, alpha=0.3, cmap=plt.cm.coolwarm)\n",
        "\n",
        "    # Plot the actual data points\n",
        "    plt.scatter(X_np[:, 0], X_np[:, 1], c=y_np, cmap=plt.cm.coolwarm, edgecolors='k')"
      ],
      "metadata": {
        "id": "0UylTwPZJvYn"
      },
      "execution_count": 286,
      "outputs": []
    },
    {
      "cell_type": "code",
      "source": [
        "import matplotlib.pyplot as plt\n",
        "\n",
        "plt.figure(figsize = (15, 6))\n",
        "plt.subplot(1, 2, 1)\n",
        "plt.title('Training')\n",
        "plot_decision(model, x_train, y_train)\n",
        "\n",
        "plt.subplot(1, 2, 2)\n",
        "plt.title('Testing')\n",
        "plot_decision(model, x_test, y_test)"
      ],
      "metadata": {
        "colab": {
          "base_uri": "https://localhost:8080/",
          "height": 545
        },
        "id": "JKsg9amaNSd-",
        "outputId": "1802aa07-5c63-402a-fc20-201ee82a8c09"
      },
      "execution_count": 290,
      "outputs": [
        {
          "output_type": "display_data",
          "data": {
            "text/plain": [
              "<Figure size 1500x600 with 2 Axes>"
            ],
            "image/png": "[encoded data removed]"
          },
          "metadata": {}
        }
      ]
    },
    {
      "cell_type": "code",
      "source": [],
      "metadata": {
        "id": "5DLKp5nsRvT2"
      },
      "execution_count": null,
      "outputs": []
    }
  ]
}